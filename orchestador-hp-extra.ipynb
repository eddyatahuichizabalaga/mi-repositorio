{
  "cells": [
    {
      "cell_type": "code",
      "source": [
        "from sklearn.model_selection import GridSearchCV\n",
        "from sklearn.ensemble import RandomForestClassifier,GradientBoostingClassifier\n",
        "import pandas as pd"
      ],
      "outputs": [],
      "execution_count": 1,
      "metadata": {
        "jupyter": {
          "source_hidden": false,
          "outputs_hidden": false
        },
        "nteract": {
          "transient": {
            "deleting": false
          }
        },
        "gather": {
          "logged": 1698600185748
        }
      }
    },
    {
      "cell_type": "markdown",
      "source": [
        "# <mark>**MODELO RandomForestClassifier**</mark>"
      ],
      "metadata": {
        "nteract": {
          "transient": {
            "deleting": false
          }
        }
      }
    },
    {
      "cell_type": "code",
      "source": [
        "bosque = RandomForestClassifier()\n",
        "bosque.get_params()"
      ],
      "outputs": [
        {
          "output_type": "execute_result",
          "execution_count": 47,
          "data": {
            "text/plain": "{'bootstrap': True,\n 'ccp_alpha': 0.0,\n 'class_weight': None,\n 'criterion': 'gini',\n 'max_depth': None,\n 'max_features': 'sqrt',\n 'max_leaf_nodes': None,\n 'max_samples': None,\n 'min_impurity_decrease': 0.0,\n 'min_samples_leaf': 1,\n 'min_samples_split': 2,\n 'min_weight_fraction_leaf': 0.0,\n 'n_estimators': 100,\n 'n_jobs': None,\n 'oob_score': False,\n 'random_state': None,\n 'verbose': 0,\n 'warm_start': False}"
          },
          "metadata": {}
        }
      ],
      "execution_count": 47,
      "metadata": {
        "jupyter": {
          "source_hidden": false,
          "outputs_hidden": false
        },
        "nteract": {
          "transient": {
            "deleting": false
          }
        },
        "gather": {
          "logged": 1698102212051
        }
      }
    },
    {
      "cell_type": "code",
      "source": [
        "df_training = pd.read_csv('./data/training-table/train_data.csv')"
      ],
      "outputs": [],
      "execution_count": 2,
      "metadata": {
        "jupyter": {
          "source_hidden": false,
          "outputs_hidden": false
        },
        "nteract": {
          "transient": {
            "deleting": false
          }
        },
        "gather": {
          "logged": 1698600206140
        }
      }
    },
    {
      "cell_type": "code",
      "source": [
        "parametros = {\"criterion\" : (\"gini\", \"entropy\"),\"n_estimators\" : (10,20,30), \"max_samples\" : (1/3, 2/3)}\n",
        "\n",
        "rejilla = GridSearchCV(bosque, parametros, scoring=\"accuracy\")\n",
        "\n",
        "rejilla.fit(df_training[df_training.columns[:-1]].values,\n",
        "            df_training[\"DRK_YN\"].values)"
      ],
      "outputs": [
        {
          "output_type": "execute_result",
          "execution_count": 13,
          "data": {
            "text/plain": "GridSearchCV(estimator=RandomForestClassifier(),\n             param_grid={'criterion': ('gini', 'entropy'),\n                         'max_samples': (0.3333333333333333,\n                                         0.6666666666666666),\n                         'n_estimators': (10, 20, 30)},\n             scoring='accuracy')",
            "text/html": "<style>#sk-container-id-1 {color: black;background-color: white;}#sk-container-id-1 pre{padding: 0;}#sk-container-id-1 div.sk-toggleable {background-color: white;}#sk-container-id-1 label.sk-toggleable__label {cursor: pointer;display: block;width: 100%;margin-bottom: 0;padding: 0.3em;box-sizing: border-box;text-align: center;}#sk-container-id-1 label.sk-toggleable__label-arrow:before {content: \"▸\";float: left;margin-right: 0.25em;color: #696969;}#sk-container-id-1 label.sk-toggleable__label-arrow:hover:before {color: black;}#sk-container-id-1 div.sk-estimator:hover label.sk-toggleable__label-arrow:before {color: black;}#sk-container-id-1 div.sk-toggleable__content {max-height: 0;max-width: 0;overflow: hidden;text-align: left;background-color: #f0f8ff;}#sk-container-id-1 div.sk-toggleable__content pre {margin: 0.2em;color: black;border-radius: 0.25em;background-color: #f0f8ff;}#sk-container-id-1 input.sk-toggleable__control:checked~div.sk-toggleable__content {max-height: 200px;max-width: 100%;overflow: auto;}#sk-container-id-1 input.sk-toggleable__control:checked~label.sk-toggleable__label-arrow:before {content: \"▾\";}#sk-container-id-1 div.sk-estimator input.sk-toggleable__control:checked~label.sk-toggleable__label {background-color: #d4ebff;}#sk-container-id-1 div.sk-label input.sk-toggleable__control:checked~label.sk-toggleable__label {background-color: #d4ebff;}#sk-container-id-1 input.sk-hidden--visually {border: 0;clip: rect(1px 1px 1px 1px);clip: rect(1px, 1px, 1px, 1px);height: 1px;margin: -1px;overflow: hidden;padding: 0;position: absolute;width: 1px;}#sk-container-id-1 div.sk-estimator {font-family: monospace;background-color: #f0f8ff;border: 1px dotted black;border-radius: 0.25em;box-sizing: border-box;margin-bottom: 0.5em;}#sk-container-id-1 div.sk-estimator:hover {background-color: #d4ebff;}#sk-container-id-1 div.sk-parallel-item::after {content: \"\";width: 100%;border-bottom: 1px solid gray;flex-grow: 1;}#sk-container-id-1 div.sk-label:hover label.sk-toggleable__label {background-color: #d4ebff;}#sk-container-id-1 div.sk-serial::before {content: \"\";position: absolute;border-left: 1px solid gray;box-sizing: border-box;top: 0;bottom: 0;left: 50%;z-index: 0;}#sk-container-id-1 div.sk-serial {display: flex;flex-direction: column;align-items: center;background-color: white;padding-right: 0.2em;padding-left: 0.2em;position: relative;}#sk-container-id-1 div.sk-item {position: relative;z-index: 1;}#sk-container-id-1 div.sk-parallel {display: flex;align-items: stretch;justify-content: center;background-color: white;position: relative;}#sk-container-id-1 div.sk-item::before, #sk-container-id-1 div.sk-parallel-item::before {content: \"\";position: absolute;border-left: 1px solid gray;box-sizing: border-box;top: 0;bottom: 0;left: 50%;z-index: -1;}#sk-container-id-1 div.sk-parallel-item {display: flex;flex-direction: column;z-index: 1;position: relative;background-color: white;}#sk-container-id-1 div.sk-parallel-item:first-child::after {align-self: flex-end;width: 50%;}#sk-container-id-1 div.sk-parallel-item:last-child::after {align-self: flex-start;width: 50%;}#sk-container-id-1 div.sk-parallel-item:only-child::after {width: 0;}#sk-container-id-1 div.sk-dashed-wrapped {border: 1px dashed gray;margin: 0 0.4em 0.5em 0.4em;box-sizing: border-box;padding-bottom: 0.4em;background-color: white;}#sk-container-id-1 div.sk-label label {font-family: monospace;font-weight: bold;display: inline-block;line-height: 1.2em;}#sk-container-id-1 div.sk-label-container {text-align: center;}#sk-container-id-1 div.sk-container {/* jupyter's `normalize.less` sets `[hidden] { display: none; }` but bootstrap.min.css set `[hidden] { display: none !important; }` so we also need the `!important` here to be able to override the default hidden behavior on the sphinx rendered scikit-learn.org. See: https://github.com/scikit-learn/scikit-learn/issues/21755 */display: inline-block !important;position: relative;}#sk-container-id-1 div.sk-text-repr-fallback {display: none;}</style><div id=\"sk-container-id-1\" class=\"sk-top-container\"><div class=\"sk-text-repr-fallback\"><pre>GridSearchCV(estimator=RandomForestClassifier(),\n             param_grid={&#x27;criterion&#x27;: (&#x27;gini&#x27;, &#x27;entropy&#x27;),\n                         &#x27;max_samples&#x27;: (0.3333333333333333,\n                                         0.6666666666666666),\n                         &#x27;n_estimators&#x27;: (10, 20, 30)},\n             scoring=&#x27;accuracy&#x27;)</pre><b>In a Jupyter environment, please rerun this cell to show the HTML representation or trust the notebook. <br />On GitHub, the HTML representation is unable to render, please try loading this page with nbviewer.org.</b></div><div class=\"sk-container\" hidden><div class=\"sk-item sk-dashed-wrapped\"><div class=\"sk-label-container\"><div class=\"sk-label sk-toggleable\"><input class=\"sk-toggleable__control sk-hidden--visually\" id=\"sk-estimator-id-1\" type=\"checkbox\" ><label for=\"sk-estimator-id-1\" class=\"sk-toggleable__label sk-toggleable__label-arrow\">GridSearchCV</label><div class=\"sk-toggleable__content\"><pre>GridSearchCV(estimator=RandomForestClassifier(),\n             param_grid={&#x27;criterion&#x27;: (&#x27;gini&#x27;, &#x27;entropy&#x27;),\n                         &#x27;max_samples&#x27;: (0.3333333333333333,\n                                         0.6666666666666666),\n                         &#x27;n_estimators&#x27;: (10, 20, 30)},\n             scoring=&#x27;accuracy&#x27;)</pre></div></div></div><div class=\"sk-parallel\"><div class=\"sk-parallel-item\"><div class=\"sk-item\"><div class=\"sk-label-container\"><div class=\"sk-label sk-toggleable\"><input class=\"sk-toggleable__control sk-hidden--visually\" id=\"sk-estimator-id-2\" type=\"checkbox\" ><label for=\"sk-estimator-id-2\" class=\"sk-toggleable__label sk-toggleable__label-arrow\">estimator: RandomForestClassifier</label><div class=\"sk-toggleable__content\"><pre>RandomForestClassifier()</pre></div></div></div><div class=\"sk-serial\"><div class=\"sk-item\"><div class=\"sk-estimator sk-toggleable\"><input class=\"sk-toggleable__control sk-hidden--visually\" id=\"sk-estimator-id-3\" type=\"checkbox\" ><label for=\"sk-estimator-id-3\" class=\"sk-toggleable__label sk-toggleable__label-arrow\">RandomForestClassifier</label><div class=\"sk-toggleable__content\"><pre>RandomForestClassifier()</pre></div></div></div></div></div></div></div></div></div></div>"
          },
          "metadata": {}
        }
      ],
      "execution_count": 13,
      "metadata": {
        "jupyter": {
          "source_hidden": false,
          "outputs_hidden": false
        },
        "nteract": {
          "transient": {
            "deleting": false
          }
        },
        "gather": {
          "logged": 1698099405697
        }
      }
    },
    {
      "cell_type": "code",
      "source": [
        "sorted(rejilla.cv_results_.keys())"
      ],
      "outputs": [
        {
          "output_type": "execute_result",
          "execution_count": 14,
          "data": {
            "text/plain": "['mean_fit_time',\n 'mean_score_time',\n 'mean_test_score',\n 'param_criterion',\n 'param_max_samples',\n 'param_n_estimators',\n 'params',\n 'rank_test_score',\n 'split0_test_score',\n 'split1_test_score',\n 'split2_test_score',\n 'split3_test_score',\n 'split4_test_score',\n 'std_fit_time',\n 'std_score_time',\n 'std_test_score']"
          },
          "metadata": {}
        }
      ],
      "execution_count": 14,
      "metadata": {
        "jupyter": {
          "source_hidden": false,
          "outputs_hidden": false
        },
        "nteract": {
          "transient": {
            "deleting": false
          }
        },
        "gather": {
          "logged": 1698099434126
        }
      }
    },
    {
      "cell_type": "code",
      "source": [
        "rejilla.cv_results_[\"params\"]"
      ],
      "outputs": [
        {
          "output_type": "execute_result",
          "execution_count": 15,
          "data": {
            "text/plain": "[{'criterion': 'gini', 'max_samples': 0.3333333333333333, 'n_estimators': 10},\n {'criterion': 'gini', 'max_samples': 0.3333333333333333, 'n_estimators': 20},\n {'criterion': 'gini', 'max_samples': 0.3333333333333333, 'n_estimators': 30},\n {'criterion': 'gini', 'max_samples': 0.6666666666666666, 'n_estimators': 10},\n {'criterion': 'gini', 'max_samples': 0.6666666666666666, 'n_estimators': 20},\n {'criterion': 'gini', 'max_samples': 0.6666666666666666, 'n_estimators': 30},\n {'criterion': 'entropy',\n  'max_samples': 0.3333333333333333,\n  'n_estimators': 10},\n {'criterion': 'entropy',\n  'max_samples': 0.3333333333333333,\n  'n_estimators': 20},\n {'criterion': 'entropy',\n  'max_samples': 0.3333333333333333,\n  'n_estimators': 30},\n {'criterion': 'entropy',\n  'max_samples': 0.6666666666666666,\n  'n_estimators': 10},\n {'criterion': 'entropy',\n  'max_samples': 0.6666666666666666,\n  'n_estimators': 20},\n {'criterion': 'entropy',\n  'max_samples': 0.6666666666666666,\n  'n_estimators': 30}]"
          },
          "metadata": {}
        }
      ],
      "execution_count": 15,
      "metadata": {
        "jupyter": {
          "source_hidden": false,
          "outputs_hidden": false
        },
        "nteract": {
          "transient": {
            "deleting": false
          }
        },
        "gather": {
          "logged": 1698099523826
        }
      }
    },
    {
      "cell_type": "code",
      "source": [
        "print(rejilla.cv_results_[\"rank_test_score\"])\n",
        "print(rejilla.cv_results_[\"mean_test_score\"])\n",
        "print(rejilla.best_score_)\n",
        "print(rejilla.best_params_)"
      ],
      "outputs": [
        {
          "output_type": "stream",
          "name": "stdout",
          "text": "[11  6  3 12  8  4 10  5  1  9  7  2]\n[0.68251857 0.69625317 0.70164676 0.68195746 0.69490397 0.70001701\n 0.68382047 0.6974479  0.70282888 0.68471888 0.69591271 0.70164992]\n0.7028288787357926\n{'criterion': 'entropy', 'max_samples': 0.3333333333333333, 'n_estimators': 30}\n"
        }
      ],
      "execution_count": 16,
      "metadata": {
        "jupyter": {
          "source_hidden": false,
          "outputs_hidden": false
        },
        "nteract": {
          "transient": {
            "deleting": false
          }
        },
        "gather": {
          "logged": 1698099688238
        }
      }
    },
    {
      "cell_type": "code",
      "source": [
        "print(rejilla.predict([[1,175,70,86.0,74.0,138.0,14.5,1.0,12.0,31.0,3]]))"
      ],
      "outputs": [
        {
          "output_type": "stream",
          "name": "stdout",
          "text": "[1]\n"
        }
      ],
      "execution_count": 18,
      "metadata": {
        "jupyter": {
          "source_hidden": false,
          "outputs_hidden": false
        },
        "nteract": {
          "transient": {
            "deleting": false
          }
        },
        "gather": {
          "logged": 1698099905498
        }
      }
    },
    {
      "cell_type": "code",
      "source": [
        "print(rejilla.predict([[1,170,60,71.4,70.0,113.0,14.4,0.9,43.0,18.0,3]]))"
      ],
      "outputs": [
        {
          "output_type": "stream",
          "name": "stdout",
          "text": "[0]\n"
        }
      ],
      "execution_count": 20,
      "metadata": {
        "jupyter": {
          "source_hidden": false,
          "outputs_hidden": false
        },
        "nteract": {
          "transient": {
            "deleting": false
          }
        },
        "gather": {
          "logged": 1698099968785
        }
      }
    },
    {
      "cell_type": "markdown",
      "source": [
        "# <mark>**MODELO KNeighborsClassifier**</mark>"
      ],
      "metadata": {
        "nteract": {
          "transient": {
            "deleting": false
          }
        }
      }
    },
    {
      "cell_type": "code",
      "source": [
        "from sklearn.neighbors import KNeighborsClassifier"
      ],
      "outputs": [],
      "execution_count": 4,
      "metadata": {
        "jupyter": {
          "source_hidden": false,
          "outputs_hidden": false
        },
        "nteract": {
          "transient": {
            "deleting": false
          }
        },
        "gather": {
          "logged": 1698600216077
        }
      }
    },
    {
      "cell_type": "code",
      "source": [
        "vecino = KNeighborsClassifier()\n",
        "vecino.get_params()"
      ],
      "outputs": [
        {
          "output_type": "execute_result",
          "execution_count": 6,
          "data": {
            "text/plain": "{'algorithm': 'auto',\n 'leaf_size': 30,\n 'metric': 'minkowski',\n 'metric_params': None,\n 'n_jobs': None,\n 'n_neighbors': 5,\n 'p': 2,\n 'weights': 'uniform'}"
          },
          "metadata": {}
        }
      ],
      "execution_count": 6,
      "metadata": {
        "jupyter": {
          "source_hidden": false,
          "outputs_hidden": false
        },
        "nteract": {
          "transient": {
            "deleting": false
          }
        },
        "gather": {
          "logged": 1698600289680
        }
      }
    },
    {
      "cell_type": "code",
      "source": [
        "paramet = {\"n_neighbors\" : (1, 5, 10), \"metric\" : (\"chebyshev\", \"minkowski\"), \"leaf_size\" : (10,30,50)}\n",
        "\n",
        "modeloKNC = GridSearchCV(vecino, paramet, scoring=\"accuracy\")\n",
        "\n",
        "modeloKNC.fit(df_training[df_training.columns[:-1]].values,\n",
        "            df_training[\"DRK_YN\"].values)"
      ],
      "outputs": [
        {
          "output_type": "execute_result",
          "execution_count": 7,
          "data": {
            "text/plain": "GridSearchCV(estimator=KNeighborsClassifier(),\n             param_grid={'leaf_size': (10, 30, 50),\n                         'metric': ('chebyshev', 'minkowski'),\n                         'n_neighbors': (1, 5, 10)},\n             scoring='accuracy')",
            "text/html": "<style>#sk-container-id-1 {color: black;background-color: white;}#sk-container-id-1 pre{padding: 0;}#sk-container-id-1 div.sk-toggleable {background-color: white;}#sk-container-id-1 label.sk-toggleable__label {cursor: pointer;display: block;width: 100%;margin-bottom: 0;padding: 0.3em;box-sizing: border-box;text-align: center;}#sk-container-id-1 label.sk-toggleable__label-arrow:before {content: \"▸\";float: left;margin-right: 0.25em;color: #696969;}#sk-container-id-1 label.sk-toggleable__label-arrow:hover:before {color: black;}#sk-container-id-1 div.sk-estimator:hover label.sk-toggleable__label-arrow:before {color: black;}#sk-container-id-1 div.sk-toggleable__content {max-height: 0;max-width: 0;overflow: hidden;text-align: left;background-color: #f0f8ff;}#sk-container-id-1 div.sk-toggleable__content pre {margin: 0.2em;color: black;border-radius: 0.25em;background-color: #f0f8ff;}#sk-container-id-1 input.sk-toggleable__control:checked~div.sk-toggleable__content {max-height: 200px;max-width: 100%;overflow: auto;}#sk-container-id-1 input.sk-toggleable__control:checked~label.sk-toggleable__label-arrow:before {content: \"▾\";}#sk-container-id-1 div.sk-estimator input.sk-toggleable__control:checked~label.sk-toggleable__label {background-color: #d4ebff;}#sk-container-id-1 div.sk-label input.sk-toggleable__control:checked~label.sk-toggleable__label {background-color: #d4ebff;}#sk-container-id-1 input.sk-hidden--visually {border: 0;clip: rect(1px 1px 1px 1px);clip: rect(1px, 1px, 1px, 1px);height: 1px;margin: -1px;overflow: hidden;padding: 0;position: absolute;width: 1px;}#sk-container-id-1 div.sk-estimator {font-family: monospace;background-color: #f0f8ff;border: 1px dotted black;border-radius: 0.25em;box-sizing: border-box;margin-bottom: 0.5em;}#sk-container-id-1 div.sk-estimator:hover {background-color: #d4ebff;}#sk-container-id-1 div.sk-parallel-item::after {content: \"\";width: 100%;border-bottom: 1px solid gray;flex-grow: 1;}#sk-container-id-1 div.sk-label:hover label.sk-toggleable__label {background-color: #d4ebff;}#sk-container-id-1 div.sk-serial::before {content: \"\";position: absolute;border-left: 1px solid gray;box-sizing: border-box;top: 0;bottom: 0;left: 50%;z-index: 0;}#sk-container-id-1 div.sk-serial {display: flex;flex-direction: column;align-items: center;background-color: white;padding-right: 0.2em;padding-left: 0.2em;position: relative;}#sk-container-id-1 div.sk-item {position: relative;z-index: 1;}#sk-container-id-1 div.sk-parallel {display: flex;align-items: stretch;justify-content: center;background-color: white;position: relative;}#sk-container-id-1 div.sk-item::before, #sk-container-id-1 div.sk-parallel-item::before {content: \"\";position: absolute;border-left: 1px solid gray;box-sizing: border-box;top: 0;bottom: 0;left: 50%;z-index: -1;}#sk-container-id-1 div.sk-parallel-item {display: flex;flex-direction: column;z-index: 1;position: relative;background-color: white;}#sk-container-id-1 div.sk-parallel-item:first-child::after {align-self: flex-end;width: 50%;}#sk-container-id-1 div.sk-parallel-item:last-child::after {align-self: flex-start;width: 50%;}#sk-container-id-1 div.sk-parallel-item:only-child::after {width: 0;}#sk-container-id-1 div.sk-dashed-wrapped {border: 1px dashed gray;margin: 0 0.4em 0.5em 0.4em;box-sizing: border-box;padding-bottom: 0.4em;background-color: white;}#sk-container-id-1 div.sk-label label {font-family: monospace;font-weight: bold;display: inline-block;line-height: 1.2em;}#sk-container-id-1 div.sk-label-container {text-align: center;}#sk-container-id-1 div.sk-container {/* jupyter's `normalize.less` sets `[hidden] { display: none; }` but bootstrap.min.css set `[hidden] { display: none !important; }` so we also need the `!important` here to be able to override the default hidden behavior on the sphinx rendered scikit-learn.org. See: https://github.com/scikit-learn/scikit-learn/issues/21755 */display: inline-block !important;position: relative;}#sk-container-id-1 div.sk-text-repr-fallback {display: none;}</style><div id=\"sk-container-id-1\" class=\"sk-top-container\"><div class=\"sk-text-repr-fallback\"><pre>GridSearchCV(estimator=KNeighborsClassifier(),\n             param_grid={&#x27;leaf_size&#x27;: (10, 30, 50),\n                         &#x27;metric&#x27;: (&#x27;chebyshev&#x27;, &#x27;minkowski&#x27;),\n                         &#x27;n_neighbors&#x27;: (1, 5, 10)},\n             scoring=&#x27;accuracy&#x27;)</pre><b>In a Jupyter environment, please rerun this cell to show the HTML representation or trust the notebook. <br />On GitHub, the HTML representation is unable to render, please try loading this page with nbviewer.org.</b></div><div class=\"sk-container\" hidden><div class=\"sk-item sk-dashed-wrapped\"><div class=\"sk-label-container\"><div class=\"sk-label sk-toggleable\"><input class=\"sk-toggleable__control sk-hidden--visually\" id=\"sk-estimator-id-1\" type=\"checkbox\" ><label for=\"sk-estimator-id-1\" class=\"sk-toggleable__label sk-toggleable__label-arrow\">GridSearchCV</label><div class=\"sk-toggleable__content\"><pre>GridSearchCV(estimator=KNeighborsClassifier(),\n             param_grid={&#x27;leaf_size&#x27;: (10, 30, 50),\n                         &#x27;metric&#x27;: (&#x27;chebyshev&#x27;, &#x27;minkowski&#x27;),\n                         &#x27;n_neighbors&#x27;: (1, 5, 10)},\n             scoring=&#x27;accuracy&#x27;)</pre></div></div></div><div class=\"sk-parallel\"><div class=\"sk-parallel-item\"><div class=\"sk-item\"><div class=\"sk-label-container\"><div class=\"sk-label sk-toggleable\"><input class=\"sk-toggleable__control sk-hidden--visually\" id=\"sk-estimator-id-2\" type=\"checkbox\" ><label for=\"sk-estimator-id-2\" class=\"sk-toggleable__label sk-toggleable__label-arrow\">estimator: KNeighborsClassifier</label><div class=\"sk-toggleable__content\"><pre>KNeighborsClassifier()</pre></div></div></div><div class=\"sk-serial\"><div class=\"sk-item\"><div class=\"sk-estimator sk-toggleable\"><input class=\"sk-toggleable__control sk-hidden--visually\" id=\"sk-estimator-id-3\" type=\"checkbox\" ><label for=\"sk-estimator-id-3\" class=\"sk-toggleable__label sk-toggleable__label-arrow\">KNeighborsClassifier</label><div class=\"sk-toggleable__content\"><pre>KNeighborsClassifier()</pre></div></div></div></div></div></div></div></div></div></div>"
          },
          "metadata": {}
        }
      ],
      "execution_count": 7,
      "metadata": {
        "jupyter": {
          "source_hidden": false,
          "outputs_hidden": false
        },
        "nteract": {
          "transient": {
            "deleting": false
          }
        },
        "gather": {
          "logged": 1698601374843
        }
      }
    },
    {
      "cell_type": "code",
      "source": [
        "sorted(modeloKNC.cv_results_.keys())"
      ],
      "outputs": [
        {
          "output_type": "execute_result",
          "execution_count": 8,
          "data": {
            "text/plain": "['mean_fit_time',\n 'mean_score_time',\n 'mean_test_score',\n 'param_leaf_size',\n 'param_metric',\n 'param_n_neighbors',\n 'params',\n 'rank_test_score',\n 'split0_test_score',\n 'split1_test_score',\n 'split2_test_score',\n 'split3_test_score',\n 'split4_test_score',\n 'std_fit_time',\n 'std_score_time',\n 'std_test_score']"
          },
          "metadata": {}
        }
      ],
      "execution_count": 8,
      "metadata": {
        "jupyter": {
          "source_hidden": false,
          "outputs_hidden": false
        },
        "nteract": {
          "transient": {
            "deleting": false
          }
        },
        "gather": {
          "logged": 1698602000707
        }
      }
    },
    {
      "cell_type": "code",
      "source": [
        "modeloKNC.cv_results_[\"params\"]"
      ],
      "outputs": [
        {
          "output_type": "execute_result",
          "execution_count": 9,
          "data": {
            "text/plain": "[{'leaf_size': 10, 'metric': 'chebyshev', 'n_neighbors': 1},\n {'leaf_size': 10, 'metric': 'chebyshev', 'n_neighbors': 5},\n {'leaf_size': 10, 'metric': 'chebyshev', 'n_neighbors': 10},\n {'leaf_size': 10, 'metric': 'minkowski', 'n_neighbors': 1},\n {'leaf_size': 10, 'metric': 'minkowski', 'n_neighbors': 5},\n {'leaf_size': 10, 'metric': 'minkowski', 'n_neighbors': 10},\n {'leaf_size': 30, 'metric': 'chebyshev', 'n_neighbors': 1},\n {'leaf_size': 30, 'metric': 'chebyshev', 'n_neighbors': 5},\n {'leaf_size': 30, 'metric': 'chebyshev', 'n_neighbors': 10},\n {'leaf_size': 30, 'metric': 'minkowski', 'n_neighbors': 1},\n {'leaf_size': 30, 'metric': 'minkowski', 'n_neighbors': 5},\n {'leaf_size': 30, 'metric': 'minkowski', 'n_neighbors': 10},\n {'leaf_size': 50, 'metric': 'chebyshev', 'n_neighbors': 1},\n {'leaf_size': 50, 'metric': 'chebyshev', 'n_neighbors': 5},\n {'leaf_size': 50, 'metric': 'chebyshev', 'n_neighbors': 10},\n {'leaf_size': 50, 'metric': 'minkowski', 'n_neighbors': 1},\n {'leaf_size': 50, 'metric': 'minkowski', 'n_neighbors': 5},\n {'leaf_size': 50, 'metric': 'minkowski', 'n_neighbors': 10}]"
          },
          "metadata": {}
        }
      ],
      "execution_count": 9,
      "metadata": {
        "jupyter": {
          "source_hidden": false,
          "outputs_hidden": false
        },
        "nteract": {
          "transient": {
            "deleting": false
          }
        },
        "gather": {
          "logged": 1698602003530
        }
      }
    },
    {
      "cell_type": "code",
      "source": [
        "print(modeloKNC.cv_results_[\"rank_test_score\"])\n",
        "print(modeloKNC.cv_results_[\"mean_test_score\"])\n",
        "print(modeloKNC.best_score_)\n",
        "print(modeloKNC.best_params_)"
      ],
      "outputs": [
        {
          "output_type": "stream",
          "name": "stdout",
          "text": "[18 12  6 13  7  3 17 11  4 14  9  1 16 10  5 15  8  2]\n[0.60742005 0.65053495 0.66613917 0.6108971  0.6563164  0.67100642\n 0.60743897 0.6508029  0.66660887 0.6108971  0.65630694 0.67102534\n 0.60790867 0.65089117 0.66645125 0.61088449 0.65631324 0.67100642]\n0.671025335810385\n{'leaf_size': 30, 'metric': 'minkowski', 'n_neighbors': 10}\n"
        }
      ],
      "execution_count": 10,
      "metadata": {
        "jupyter": {
          "source_hidden": false,
          "outputs_hidden": false
        },
        "nteract": {
          "transient": {
            "deleting": false
          }
        },
        "gather": {
          "logged": 1698602009347
        }
      }
    },
    {
      "cell_type": "code",
      "source": [
        "print(modeloKNC.predict([[1,175,70,86.0,74.0,138.0,14.5,1.0,12.0,31.0,3]]))"
      ],
      "outputs": [
        {
          "output_type": "stream",
          "name": "stdout",
          "text": "[1]\n"
        }
      ],
      "execution_count": 14,
      "metadata": {
        "jupyter": {
          "source_hidden": false,
          "outputs_hidden": false
        },
        "nteract": {
          "transient": {
            "deleting": false
          }
        },
        "gather": {
          "logged": 1698602033574
        }
      }
    },
    {
      "cell_type": "code",
      "source": [
        "print(modeloKNC.predict([[1,170,60,71.4,70.0,113.0,14.4,0.9,43.0,18.0,3]]))"
      ],
      "outputs": [
        {
          "output_type": "stream",
          "name": "stdout",
          "text": "[1]\n"
        }
      ],
      "execution_count": 15,
      "metadata": {
        "jupyter": {
          "source_hidden": false,
          "outputs_hidden": false
        },
        "nteract": {
          "transient": {
            "deleting": false
          }
        },
        "gather": {
          "logged": 1698602035235
        }
      }
    }
  ],
  "metadata": {
    "kernelspec": {
      "name": "python310-sdkv2",
      "language": "python",
      "display_name": "Python 3.10 - SDK v2"
    },
    "language_info": {
      "name": "python",
      "version": "3.10.11",
      "mimetype": "text/x-python",
      "codemirror_mode": {
        "name": "ipython",
        "version": 3
      },
      "pygments_lexer": "ipython3",
      "nbconvert_exporter": "python",
      "file_extension": ".py"
    },
    "microsoft": {
      "ms_spell_check": {
        "ms_spell_check_language": "es"
      },
      "host": {
        "AzureML": {
          "notebookHasBeenCompleted": true
        }
      }
    },
    "nteract": {
      "version": "nteract-front-end@1.0.0"
    },
    "kernel_info": {
      "name": "python310-sdkv2"
    }
  },
  "nbformat": 4,
  "nbformat_minor": 2
}