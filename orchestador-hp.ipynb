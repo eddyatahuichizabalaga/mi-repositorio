{
  "cells": [
    {
      "cell_type": "code",
      "source": [
        "import sys\n",
        "print(sys.executable)\n",
        "print(sys.version)\n",
        "print(sys.version_info)"
      ],
      "outputs": [
        {
          "output_type": "stream",
          "name": "stdout",
          "text": "/anaconda/envs/azureml_py310_sdkv2/bin/python\n3.10.11 (main, May 16 2023, 00:28:57) [GCC 11.2.0]\nsys.version_info(major=3, minor=10, micro=11, releaselevel='final', serial=0)\n"
        }
      ],
      "execution_count": 2,
      "metadata": {
        "jupyter": {
          "source_hidden": false,
          "outputs_hidden": false
        },
        "nteract": {
          "transient": {
            "deleting": false
          }
        },
        "gather": {
          "logged": 1698602116354
        }
      }
    },
    {
      "cell_type": "code",
      "source": [
        "from azure.ai.ml import MLClient\n",
        "from azure.identity import DefaultAzureCredential\n",
        "from azure.ai.ml.entities import AmlCompute\n",
        "import os\n",
        "from azure.ai.ml.entities import Environment\n",
        "from azure.ai.ml import command, Input\n",
        "from azure.ai.ml.sweep import Choice, Uniform, MedianStoppingPolicy\n",
        "from azure.identity import DefaultAzureCredential\n",
        "from azure.core.exceptions import ResourceExistsError, ResourceNotFoundError"
      ],
      "outputs": [],
      "execution_count": 3,
      "metadata": {
        "gather": {
          "logged": 1698602120100
        }
      }
    },
    {
      "cell_type": "code",
      "source": [
        "credential = DefaultAzureCredential()\n",
        "ml_client = MLClient.from_config(credential=credential)"
      ],
      "outputs": [
        {
          "output_type": "stream",
          "name": "stderr",
          "text": "Found the config file in: /config.json\n"
        }
      ],
      "execution_count": 4,
      "metadata": {
        "jupyter": {
          "source_hidden": false,
          "outputs_hidden": false
        },
        "nteract": {
          "transient": {
            "deleting": false
          }
        },
        "gather": {
          "logged": 1698602120741
        }
      }
    },
    {
      "cell_type": "markdown",
      "source": [
        "# PARA SUBIR EL DATASET AL DATASTORAGE DE AZURE"
      ],
      "metadata": {
        "nteract": {
          "transient": {
            "deleting": false
          }
        }
      }
    },
    {
      "cell_type": "code",
      "source": [
        "from azure.ai.ml.entities import Data\n",
        "from azure.ai.ml.constants import AssetTypes, InputOutputModes\n",
        "from azure.ai.ml import Input\n",
        "\n",
        "my_path = \"./data/bebedores_alcohol_compri.csv\"\n",
        "# set the version number of the data asset\n",
        "v1 = \"initial\"\n",
        "\n",
        "my_data = Data(\n",
        "    name=\"Bebedores-Alcohol-filtrado\",\n",
        "    version=v1,\n",
        "    description=\"1-bebedor 0.Nobebedor\",\n",
        "    path=my_path,\n",
        "    type=AssetTypes.URI_FILE,\n",
        ")\n",
        "\n",
        "## create data asset if it doesn't already exist:\n",
        "try:\n",
        "    data_asset = ml_client.data.get(name=\"Bebedores-Alcohol-filtrado\", version=v1)\n",
        "    print(\n",
        "        f\"Data asset already exists. Name: {my_data.name}, version: {my_data.version}\"\n",
        "    )\n",
        "except:\n",
        "    ml_client.data.create_or_update(my_data)\n",
        "    print(f\"Data asset created. Name: {my_data.name}, version: {my_data.version}\")"
      ],
      "outputs": [
        {
          "output_type": "stream",
          "name": "stdout",
          "text": "Data asset already exists. Name: Bebedores-Alcohol-filtrado, version: initial\n"
        }
      ],
      "execution_count": 5,
      "metadata": {
        "jupyter": {
          "source_hidden": false,
          "outputs_hidden": false
        },
        "nteract": {
          "transient": {
            "deleting": false
          }
        },
        "gather": {
          "logged": 1698602133753
        }
      }
    },
    {
      "cell_type": "markdown",
      "source": [
        "# OBTENER LA DIRECCION URI DEL DATASET A UTILIZAR"
      ],
      "metadata": {
        "nteract": {
          "transient": {
            "deleting": false
          }
        }
      }
    },
    {
      "cell_type": "code",
      "source": [
        "import pandas as pd\n",
        "\n",
        "# get a handle of the data asset and print the URI\n",
        "data_asset = ml_client.data.get(name=\"Bebedores-Alcohol-filtrado\", version=v1)\n",
        "path = data_asset.path\n",
        "print(f\"Data asset URI: {path}\")"
      ],
      "outputs": [
        {
          "output_type": "stream",
          "name": "stdout",
          "text": "Data asset URI: azureml://subscriptions/fc14670d-c5e7-4c9f-aaa4-11ab881abb5f/resourcegroups/proyecto1-modulo4/workspaces/proyecto1/datastores/workspaceblobstore/paths/LocalUpload/fb645b356c1a9ee188ac7af44e2b124a/bebedores_alcohol_compri.csv\n"
        }
      ],
      "execution_count": 6,
      "metadata": {
        "jupyter": {
          "source_hidden": false,
          "outputs_hidden": false
        },
        "nteract": {
          "transient": {
            "deleting": false
          }
        },
        "gather": {
          "logged": 1698602136782
        }
      }
    },
    {
      "cell_type": "markdown",
      "source": [
        "# NOMBRE DEL CLUSTER PARA ENTRENAR EL MODELO"
      ],
      "metadata": {
        "nteract": {
          "transient": {
            "deleting": false
          }
        }
      }
    },
    {
      "cell_type": "code",
      "source": [
        "cpu_compute_target = \"Cpu-Cluster-E4dsv4\""
      ],
      "outputs": [],
      "execution_count": 5,
      "metadata": {
        "jupyter": {
          "source_hidden": false,
          "outputs_hidden": false
        },
        "nteract": {
          "transient": {
            "deleting": false
          }
        },
        "gather": {
          "logged": 1698462015344
        }
      }
    },
    {
      "cell_type": "code",
      "source": [
        "env_name = 'sklearn-env'\n",
        "job_env = Environment(\n",
        "    name=env_name,\n",
        "    description=\"sklearn 0.24.2\",\n",
        "    conda_file='./env/conda.yaml',\n",
        "    image=\"mcr.microsoft.com/azureml/openmpi4.1.0-ubuntu20.04:latest\",\n",
        ")\n",
        "job_env = ml_client.environments.create_or_update(job_env)\n"
      ],
      "outputs": [],
      "execution_count": 6,
      "metadata": {
        "jupyter": {
          "source_hidden": false,
          "outputs_hidden": false
        },
        "nteract": {
          "transient": {
            "deleting": false
          }
        },
        "gather": {
          "logged": 1698462023829
        }
      }
    },
    {
      "cell_type": "code",
      "source": [],
      "outputs": [],
      "execution_count": null,
      "metadata": {
        "jupyter": {
          "source_hidden": false,
          "outputs_hidden": false
        },
        "nteract": {
          "transient": {
            "deleting": false
          }
        }
      }
    },
    {
      "cell_type": "markdown",
      "source": [
        "# **MODELO 1**"
      ],
      "metadata": {
        "nteract": {
          "transient": {
            "deleting": false
          }
        }
      }
    },
    {
      "cell_type": "code",
      "source": [
        "job = command(\n",
        "    code=\"./src\",\n",
        "    command=\"python train.py --dataset_path ${{inputs.dataset_path}} --min_samples_split ${{inputs.min_samples_split}} --criterion ${{inputs.criterion}}\",\n",
        "    environment=f\"{job_env.name}:{job_env.version}\",\n",
        "    experiment_name='tomadores-alcohol-exp-decision-tree-hyp',\n",
        "    display_name=\"tomadores-alcohol-exp-decision-tree-hyp\",\n",
        "    inputs={\n",
        "        \"dataset_path\": Input(\n",
        "            type=\"uri_file\",\n",
        "            path=\"azureml://subscriptions/fc14670d-c5e7-4c9f-aaa4-11ab881abb5f/resourcegroups/proyecto1-modulo4/workspaces/proyecto1/datastores/workspaceblobstore/paths/LocalUpload/fb645b356c1a9ee188ac7af44e2b124a/bebedores_alcohol_compri.csv\",\n",
        "        ),\n",
        "        \"min_samples_split\": 3,\n",
        "        \"criterion\": \"entropy\",\n",
        "    },\n",
        "    compute=cpu_compute_target,\n",
        ")\n"
      ],
      "outputs": [],
      "execution_count": 28,
      "metadata": {
        "jupyter": {
          "source_hidden": false,
          "outputs_hidden": false
        },
        "nteract": {
          "transient": {
            "deleting": false
          }
        },
        "gather": {
          "logged": 1698443160633
        }
      }
    },
    {
      "cell_type": "code",
      "source": [
        "returned_job = ml_client.jobs.create_or_update(job)"
      ],
      "outputs": [
        {
          "output_type": "stream",
          "name": "stderr",
          "text": "Class AutoDeleteSettingSchema: This is an experimental class, and may change at any time. Please see https://aka.ms/azuremlexperimental for more information.\nClass AutoDeleteConditionSchema: This is an experimental class, and may change at any time. Please see https://aka.ms/azuremlexperimental for more information.\nClass BaseAutoDeleteSettingSchema: This is an experimental class, and may change at any time. Please see https://aka.ms/azuremlexperimental for more information.\nClass IntellectualPropertySchema: This is an experimental class, and may change at any time. Please see https://aka.ms/azuremlexperimental for more information.\nClass ProtectionLevelSchema: This is an experimental class, and may change at any time. Please see https://aka.ms/azuremlexperimental for more information.\nClass BaseIntellectualPropertySchema: This is an experimental class, and may change at any time. Please see https://aka.ms/azuremlexperimental for more information.\n\u001b[32mUploading src (0.0 MBs): 100%|██████████| 2824/2824 [00:00<00:00, 34073.25it/s]\n\u001b[39m\n\n"
        }
      ],
      "execution_count": 10,
      "metadata": {
        "jupyter": {
          "source_hidden": false,
          "outputs_hidden": false
        },
        "nteract": {
          "transient": {
            "deleting": false
          }
        },
        "gather": {
          "logged": 1698438211409
        }
      }
    },
    {
      "cell_type": "code",
      "source": [
        "ml_client.jobs.stream(returned_job.name)"
      ],
      "outputs": [
        {
          "output_type": "stream",
          "name": "stdout",
          "text": "RunId: khaki_parang_df6y56qsl8\nWeb View: https://ml.azure.com/runs/khaki_parang_df6y56qsl8?wsid=/subscriptions/fc14670d-c5e7-4c9f-aaa4-11ab881abb5f/resourcegroups/proyecto1-modulo4/workspaces/proyecto1\n\nExecution Summary\n=================\nRunId: khaki_parang_df6y56qsl8\nWeb View: https://ml.azure.com/runs/khaki_parang_df6y56qsl8?wsid=/subscriptions/fc14670d-c5e7-4c9f-aaa4-11ab881abb5f/resourcegroups/proyecto1-modulo4/workspaces/proyecto1\n\n"
        }
      ],
      "execution_count": 11,
      "metadata": {
        "jupyter": {
          "source_hidden": false,
          "outputs_hidden": false
        },
        "nteract": {
          "transient": {
            "deleting": false
          }
        },
        "gather": {
          "logged": 1698438673310
        }
      }
    },
    {
      "cell_type": "markdown",
      "source": [
        "# TUNEO DE HIPERPARAMETROS EN MODELOS DE CLASIFICACION"
      ],
      "metadata": {
        "nteract": {
          "transient": {
            "deleting": false
          }
        }
      }
    },
    {
      "cell_type": "code",
      "source": [
        "job_for_sweep = job(\n",
        "    min_samples_split=Choice(values=[3,5,7,9]),\n",
        "    criterion=Choice(values=['entropy','gini']),\n",
        ")\n",
        "\n",
        "sweep_job = job_for_sweep.sweep(\n",
        "    compute=cpu_compute_target,\n",
        "    sampling_algorithm=\"random\",\n",
        "    primary_metric=\"accuracy\",\n",
        "    goal=\"Maximize\",\n",
        "    max_total_trials=12,\n",
        "    max_concurrent_trials=2,\n",
        ")\n",
        "\n",
        "returned_sweep_job = ml_client.create_or_update(sweep_job)\n",
        "ml_client.jobs.stream(returned_sweep_job.name)"
      ],
      "outputs": [
        {
          "output_type": "stream",
          "name": "stdout",
          "text": "RunId: strong_station_9vjwbz5rvb\nWeb View: https://ml.azure.com/runs/strong_station_9vjwbz5rvb?wsid=/subscriptions/fc14670d-c5e7-4c9f-aaa4-11ab881abb5f/resourcegroups/proyecto1-modulo4/workspaces/proyecto1\n\nStreaming azureml-logs/hyperdrive.txt\n=====================================\n\n[2023-10-27T20:36:16.577571][GENERATOR][INFO]Trying to sample '2' jobs from the hyperparameter space\n[2023-10-27T20:36:17.2278560Z][SCHEDULER][INFO]Scheduling job, id='strong_station_9vjwbz5rvb_0' \n[2023-10-27T20:36:17.3720119Z][SCHEDULER][INFO]Scheduling job, id='strong_station_9vjwbz5rvb_1' \n[2023-10-27T20:36:17.288247][GENERATOR][INFO]Successfully sampled '2' jobs, they will soon be submitted to the execution target.\n[2023-10-27T20:36:17.7172775Z][SCHEDULER][INFO]Successfully scheduled a job. Id='strong_station_9vjwbz5rvb_0' \n[2023-10-27T20:36:17.8829832Z][SCHEDULER][INFO]Successfully scheduled a job. Id='strong_station_9vjwbz5rvb_1' \n[2023-10-27T20:43:16.151364][GENERATOR][INFO]Trying to sample '1' jobs from the hyperparameter space\n[2023-10-27T20:43:16.485168][GENERATOR][INFO]Successfully sampled '1' jobs, they will soon be submitted to the execution target.\n[2023-10-27T20:43:16.5720161Z][SCHEDULER][INFO]Scheduling job, id='strong_station_9vjwbz5rvb_2' \n[2023-10-27T20:43:16.9615761Z][SCHEDULER][INFO]Successfully scheduled a job. Id='strong_station_9vjwbz5rvb_2' \n[2023-10-27T20:44:16.246579][GENERATOR][INFO]Trying to sample '1' jobs from the hyperparameter space\n[2023-10-27T20:44:16.6587237Z][SCHEDULER][INFO]Scheduling job, id='strong_station_9vjwbz5rvb_3' \n[2023-10-27T20:44:16.601724][GENERATOR][INFO]Successfully sampled '1' jobs, they will soon be submitted to the execution target.\n[2023-10-27T20:44:17.0219247Z][SCHEDULER][INFO]Successfully scheduled a job. Id='strong_station_9vjwbz5rvb_3' \n[2023-10-27T20:44:46.239578][GENERATOR][INFO]Trying to sample '1' jobs from the hyperparameter space\n[2023-10-27T20:44:46.5870272Z][SCHEDULER][INFO]Scheduling job, id='strong_station_9vjwbz5rvb_4' \n[2023-10-27T20:44:46.518007][GENERATOR][INFO]Successfully sampled '1' jobs, they will soon be submitted to the execution target.\n[2023-10-27T20:44:46.8384403Z][SCHEDULER][INFO]Successfully scheduled a job. Id='strong_station_9vjwbz5rvb_4' \n[2023-10-27T20:45:46.262566][GENERATOR][INFO]Trying to sample '1' jobs from the hyperparameter space\n[2023-10-27T20:45:46.7234940Z][SCHEDULER][INFO]Scheduling job, id='strong_station_9vjwbz5rvb_5' \n[2023-10-27T20:45:46.650394][GENERATOR][INFO]Successfully sampled '1' jobs, they will soon be submitted to the execution target.\n[2023-10-27T20:45:47.1043857Z][SCHEDULER][INFO]Successfully scheduled a job. Id='strong_station_9vjwbz5rvb_5' \n[2023-10-27T20:46:16.319419][GENERATOR][INFO]Trying to sample '1' jobs from the hyperparameter space\n[2023-10-27T20:46:16.7136290Z][SCHEDULER][INFO]Scheduling job, id='strong_station_9vjwbz5rvb_6' \n[2023-10-27T20:46:16.637698][GENERATOR][INFO]Successfully sampled '1' jobs, they will soon be submitted to the execution target.\n[2023-10-27T20:46:17.0041084Z][SCHEDULER][INFO]Successfully scheduled a job. Id='strong_station_9vjwbz5rvb_6' \n[2023-10-27T20:47:16.284343][GENERATOR][INFO]Trying to sample '1' jobs from the hyperparameter space\n[2023-10-27T20:47:16.7294736Z][SCHEDULER][INFO]Scheduling job, id='strong_station_9vjwbz5rvb_7' \n[2023-10-27T20:47:16.659050][GENERATOR][INFO]Successfully sampled '1' jobs, they will soon be submitted to the execution target.\n[2023-10-27T20:47:17.1364551Z][SCHEDULER][INFO]Successfully scheduled a job. Id='strong_station_9vjwbz5rvb_7' \n[2023-10-27T20:47:46.281269][GENERATOR][INFO]Trying to sample '1' jobs from the hyperparameter space\n[2023-10-27T20:47:46.310204][GENERATOR][WARNING]Could not sample any more jobs from the space.\n[2023-10-27T20:48:58.798421][CONTROLLER][INFO]Experiment was 'ExperimentStatus.RUNNING', is 'ExperimentStatus.FINISHED'.\n\nExecution Summary\n=================\nRunId: strong_station_9vjwbz5rvb\nWeb View: https://ml.azure.com/runs/strong_station_9vjwbz5rvb?wsid=/subscriptions/fc14670d-c5e7-4c9f-aaa4-11ab881abb5f/resourcegroups/proyecto1-modulo4/workspaces/proyecto1\n\n"
        }
      ],
      "execution_count": 12,
      "metadata": {
        "jupyter": {
          "source_hidden": false,
          "outputs_hidden": false
        },
        "nteract": {
          "transient": {
            "deleting": false
          }
        },
        "gather": {
          "logged": 1698439745312
        }
      }
    },
    {
      "cell_type": "markdown",
      "source": [
        "# **MODELO 2**"
      ],
      "metadata": {
        "nteract": {
          "transient": {
            "deleting": false
          }
        }
      }
    },
    {
      "cell_type": "code",
      "source": [
        "job2 = command(\n",
        "    code=\"./src2\",\n",
        "    command=\"python train.py --dataset_path ${{inputs.dataset_path}} --weights ${{inputs.weights}} --metric ${{inputs.metric}}\",\n",
        "    environment=f\"{job_env.name}:{job_env.version}\",\n",
        "    experiment_name='tomadores-alcohol-exp-KNeighborsClassifier-hyp',\n",
        "    display_name=\"tomadores-alcohol-exp-KNeighborsClassifier-hyp\",\n",
        "    inputs={\n",
        "        \"dataset_path\": Input(\n",
        "            type=\"uri_file\",\n",
        "            path=\"azureml://subscriptions/fc14670d-c5e7-4c9f-aaa4-11ab881abb5f/resourcegroups/proyecto1-modulo4/workspaces/proyecto1/datastores/workspaceblobstore/paths/LocalUpload/fb645b356c1a9ee188ac7af44e2b124a/bebedores_alcohol_compri.csv\",\n",
        "        ),\n",
        "        \"weights\": \"uniform\",\n",
        "        \"metric\": \"euclidean\",\n",
        "    },\n",
        "    compute=cpu_compute_target,\n",
        ")"
      ],
      "outputs": [],
      "execution_count": 10,
      "metadata": {
        "jupyter": {
          "source_hidden": false,
          "outputs_hidden": false
        },
        "nteract": {
          "transient": {
            "deleting": false
          }
        },
        "gather": {
          "logged": 1698462685241
        }
      }
    },
    {
      "cell_type": "code",
      "source": [
        "returned_job = ml_client.jobs.create_or_update(job2)"
      ],
      "outputs": [
        {
          "output_type": "stream",
          "name": "stderr",
          "text": "\r\u001b[32mUploading src2 (0.0 MBs):   0%|          | 0/2753 [00:00<?, ?it/s]\r\u001b[32mUploading src2 (0.0 MBs): 100%|██████████| 2753/2753 [00:00<00:00, 33916.74it/s]\n\u001b[39m\n\n"
        }
      ],
      "execution_count": 11,
      "metadata": {
        "jupyter": {
          "source_hidden": false,
          "outputs_hidden": false
        },
        "nteract": {
          "transient": {
            "deleting": false
          }
        },
        "gather": {
          "logged": 1698462690707
        }
      }
    },
    {
      "cell_type": "code",
      "source": [
        "ml_client.jobs.stream(returned_job.name)"
      ],
      "outputs": [
        {
          "output_type": "stream",
          "name": "stdout",
          "text": "RunId: icy_turnip_mwsp78srw2\nWeb View: https://ml.azure.com/runs/icy_turnip_mwsp78srw2?wsid=/subscriptions/fc14670d-c5e7-4c9f-aaa4-11ab881abb5f/resourcegroups/proyecto1-modulo4/workspaces/proyecto1\n\nExecution Summary\n=================\nRunId: icy_turnip_mwsp78srw2\nWeb View: https://ml.azure.com/runs/icy_turnip_mwsp78srw2?wsid=/subscriptions/fc14670d-c5e7-4c9f-aaa4-11ab881abb5f/resourcegroups/proyecto1-modulo4/workspaces/proyecto1\n\n"
        }
      ],
      "execution_count": 12,
      "metadata": {
        "jupyter": {
          "source_hidden": false,
          "outputs_hidden": false
        },
        "nteract": {
          "transient": {
            "deleting": false
          }
        },
        "gather": {
          "logged": 1698463321989
        }
      }
    },
    {
      "cell_type": "code",
      "source": [
        "job_for_sweep = job2(\n",
        "    metric = Choice(values=['euclidean', 'manhattan', 'minkowski']),\n",
        "    weights = Choice(values= ['uniform', 'distance']),\n",
        ")\n",
        "\n",
        "sweep_job = job_for_sweep.sweep(\n",
        "    compute=cpu_compute_target,\n",
        "    sampling_algorithm=\"random\",\n",
        "    primary_metric=\"accuracy\",\n",
        "    goal=\"Maximize\",\n",
        "    max_total_trials=12,\n",
        "    max_concurrent_trials=2,\n",
        ")\n",
        "\n",
        "returned_sweep_job = ml_client.create_or_update(sweep_job)\n",
        "ml_client.jobs.stream(returned_sweep_job.name)"
      ],
      "outputs": [
        {
          "output_type": "stream",
          "name": "stdout",
          "text": "RunId: tough_wheel_sq9jz66y6s\nWeb View: https://ml.azure.com/runs/tough_wheel_sq9jz66y6s?wsid=/subscriptions/fc14670d-c5e7-4c9f-aaa4-11ab881abb5f/resourcegroups/proyecto1-modulo4/workspaces/proyecto1\n\nStreaming azureml-logs/hyperdrive.txt\n=====================================\n\n[2023-10-28T03:22:43.192393][GENERATOR][INFO]Trying to sample '2' jobs from the hyperparameter space\n[2023-10-28T03:22:43.8476660Z][SCHEDULER][INFO]Scheduling job, id='tough_wheel_sq9jz66y6s_0' \n[2023-10-28T03:22:43.9727948Z][SCHEDULER][INFO]Scheduling job, id='tough_wheel_sq9jz66y6s_1' \n[2023-10-28T03:22:43.820954][GENERATOR][INFO]Successfully sampled '2' jobs, they will soon be submitted to the execution target.\n[2023-10-28T03:22:44.5171323Z][SCHEDULER][INFO]Successfully scheduled a job. Id='tough_wheel_sq9jz66y6s_1' \n[2023-10-28T03:22:44.5734344Z][SCHEDULER][INFO]Successfully scheduled a job. Id='tough_wheel_sq9jz66y6s_0' \n[2023-10-28T03:25:13.246889][GENERATOR][INFO]Trying to sample '1' jobs from the hyperparameter space\n[2023-10-28T03:25:13.575609][GENERATOR][INFO]Successfully sampled '1' jobs, they will soon be submitted to the execution target.\n[2023-10-28T03:25:13.6547833Z][SCHEDULER][INFO]Scheduling job, id='tough_wheel_sq9jz66y6s_2' \n[2023-10-28T03:25:14.0236445Z][SCHEDULER][INFO]Successfully scheduled a job. Id='tough_wheel_sq9jz66y6s_2' \n[2023-10-28T03:26:43.182527][GENERATOR][INFO]Trying to sample '1' jobs from the hyperparameter space\n[2023-10-28T03:26:43.4870341Z][SCHEDULER][INFO]Scheduling job, id='tough_wheel_sq9jz66y6s_3' \n[2023-10-28T03:26:43.438562][GENERATOR][INFO]Successfully sampled '1' jobs, they will soon be submitted to the execution target.\n[2023-10-28T03:26:43.8956273Z][SCHEDULER][INFO]Successfully scheduled a job. Id='tough_wheel_sq9jz66y6s_3' \n[2023-10-28T03:46:13.209276][GENERATOR][INFO]Trying to sample '1' jobs from the hyperparameter space\n[2023-10-28T03:46:13.5578161Z][SCHEDULER][INFO]Scheduling job, id='tough_wheel_sq9jz66y6s_4' \n[2023-10-28T03:46:13.524899][GENERATOR][INFO]Successfully sampled '1' jobs, they will soon be submitted to the execution target.\n[2023-10-28T03:46:14.0431352Z][SCHEDULER][INFO]Successfully scheduled a job. Id='tough_wheel_sq9jz66y6s_4' \n[2023-10-28T03:47:13.210095][GENERATOR][INFO]Trying to sample '1' jobs from the hyperparameter space\n[2023-10-28T03:47:13.5994484Z][SCHEDULER][INFO]Scheduling job, id='tough_wheel_sq9jz66y6s_5' \n[2023-10-28T03:47:13.548638][GENERATOR][INFO]Successfully sampled '1' jobs, they will soon be submitted to the execution target.\n[2023-10-28T03:47:13.9950767Z][SCHEDULER][INFO]Successfully scheduled a job. Id='tough_wheel_sq9jz66y6s_5' \n[2023-10-28T04:08:21.633002][CONTROLLER][INFO]Experiment was 'ExperimentStatus.RUNNING', is 'ExperimentStatus.FINISHED'.\n\nExecution Summary\n=================\nRunId: tough_wheel_sq9jz66y6s\nWeb View: https://ml.azure.com/runs/tough_wheel_sq9jz66y6s?wsid=/subscriptions/fc14670d-c5e7-4c9f-aaa4-11ab881abb5f/resourcegroups/proyecto1-modulo4/workspaces/proyecto1\n\n"
        }
      ],
      "execution_count": 14,
      "metadata": {
        "jupyter": {
          "source_hidden": false,
          "outputs_hidden": false
        },
        "nteract": {
          "transient": {
            "deleting": false
          }
        },
        "gather": {
          "logged": 1698466105398
        }
      }
    }
  ],
  "metadata": {
    "kernelspec": {
      "name": "python310-sdkv2",
      "language": "python",
      "display_name": "Python 3.10 - SDK v2"
    },
    "language_info": {
      "name": "python",
      "version": "3.10.11",
      "mimetype": "text/x-python",
      "codemirror_mode": {
        "name": "ipython",
        "version": 3
      },
      "pygments_lexer": "ipython3",
      "nbconvert_exporter": "python",
      "file_extension": ".py"
    },
    "microsoft": {
      "ms_spell_check": {
        "ms_spell_check_language": "en"
      },
      "host": {
        "AzureML": {
          "notebookHasBeenCompleted": true
        }
      }
    },
    "kernel_info": {
      "name": "python310-sdkv2"
    },
    "nteract": {
      "version": "nteract-front-end@1.0.0"
    }
  },
  "nbformat": 4,
  "nbformat_minor": 2
}