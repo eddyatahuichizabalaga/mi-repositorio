{
  "cells": [
    {
      "cell_type": "code",
      "source": [
        "!pip install azure-ai-ml"
      ],
      "outputs": [
        {
          "output_type": "stream",
          "name": "stdout",
          "text": "Requirement already satisfied: azure-ai-ml in /anaconda/envs/azureml_py38/lib/python3.8/site-packages (1.11.1)\nRequirement already satisfied: marshmallow<4.0.0,>=3.5 in /anaconda/envs/azureml_py38/lib/python3.8/site-packages (from azure-ai-ml) (3.20.1)\nRequirement already satisfied: strictyaml<2.0.0 in /anaconda/envs/azureml_py38/lib/python3.8/site-packages (from azure-ai-ml) (1.7.3)\nRequirement already satisfied: azure-common<2.0.0,>=1.1 in /anaconda/envs/azureml_py38/lib/python3.8/site-packages (from azure-ai-ml) (1.1.28)\nRequirement already satisfied: azure-storage-blob<13.0.0,>=12.10.0 in /anaconda/envs/azureml_py38/lib/python3.8/site-packages (from azure-ai-ml) (12.13.0)\nRequirement already satisfied: pyyaml<7.0.0,>=5.1.0 in /anaconda/envs/azureml_py38/lib/python3.8/site-packages (from azure-ai-ml) (6.0)\nRequirement already satisfied: colorama<0.5.0 in /anaconda/envs/azureml_py38/lib/python3.8/site-packages (from azure-ai-ml) (0.4.6)\nRequirement already satisfied: typing-extensions<5.0.0 in /anaconda/envs/azureml_py38/lib/python3.8/site-packages (from azure-ai-ml) (4.6.0)\nRequirement already satisfied: msrest>=0.6.18 in /anaconda/envs/azureml_py38/lib/python3.8/site-packages (from azure-ai-ml) (0.7.1)\nRequirement already satisfied: azure-mgmt-core<2.0.0,>=1.3.0 in /anaconda/envs/azureml_py38/lib/python3.8/site-packages (from azure-ai-ml) (1.4.0)\nRequirement already satisfied: pyjwt<3.0.0 in /anaconda/envs/azureml_py38/lib/python3.8/site-packages (from azure-ai-ml) (2.4.0)\nRequirement already satisfied: azure-storage-file-datalake<13.0.0 in /anaconda/envs/azureml_py38/lib/python3.8/site-packages (from azure-ai-ml) (12.13.2)\nRequirement already satisfied: opencensus-ext-azure<2.0.0 in /anaconda/envs/azureml_py38/lib/python3.8/site-packages (from azure-ai-ml) (1.1.9)\nRequirement already satisfied: tqdm<5.0.0 in /anaconda/envs/azureml_py38/lib/python3.8/site-packages (from azure-ai-ml) (4.65.0)\nRequirement already satisfied: azure-storage-file-share<13.0.0 in /anaconda/envs/azureml_py38/lib/python3.8/site-packages (from azure-ai-ml) (12.14.2)\nRequirement already satisfied: pydash<7.0.6,>=6.0.0 in /anaconda/envs/azureml_py38/lib/python3.8/site-packages (from azure-ai-ml) (7.0.5)\nRequirement already satisfied: isodate in /anaconda/envs/azureml_py38/lib/python3.8/site-packages (from azure-ai-ml) (0.6.1)\nRequirement already satisfied: azure-core<2.0.0,>=1.23.0 in /anaconda/envs/azureml_py38/lib/python3.8/site-packages (from azure-ai-ml) (1.26.4)\nRequirement already satisfied: jsonschema<5.0.0,>=4.0.0 in /anaconda/envs/azureml_py38/lib/python3.8/site-packages (from azure-ai-ml) (4.17.3)\nRequirement already satisfied: packaging>=17.0 in /anaconda/envs/azureml_py38/lib/python3.8/site-packages (from marshmallow<4.0.0,>=3.5->azure-ai-ml) (23.0)\nRequirement already satisfied: python-dateutil>=2.6.0 in /anaconda/envs/azureml_py38/lib/python3.8/site-packages (from strictyaml<2.0.0->azure-ai-ml) (2.8.2)\nRequirement already satisfied: cryptography>=2.1.4 in /anaconda/envs/azureml_py38/lib/python3.8/site-packages (from azure-storage-blob<13.0.0,>=12.10.0->azure-ai-ml) (38.0.4)\nRequirement already satisfied: requests~=2.16 in /anaconda/envs/azureml_py38/lib/python3.8/site-packages (from msrest>=0.6.18->azure-ai-ml) (2.31.0)\nRequirement already satisfied: certifi>=2017.4.17 in /anaconda/envs/azureml_py38/lib/python3.8/site-packages (from msrest>=0.6.18->azure-ai-ml) (2022.9.24)\nRequirement already satisfied: requests-oauthlib>=0.5.0 in /anaconda/envs/azureml_py38/lib/python3.8/site-packages (from msrest>=0.6.18->azure-ai-ml) (1.3.1)\nRequirement already satisfied: azure-identity<2.0.0,>=1.5.0 in /anaconda/envs/azureml_py38/lib/python3.8/site-packages (from opencensus-ext-azure<2.0.0->azure-ai-ml) (1.13.0)\nRequirement already satisfied: opencensus<1.0.0,>=0.11.2 in /anaconda/envs/azureml_py38/lib/python3.8/site-packages (from opencensus-ext-azure<2.0.0->azure-ai-ml) (0.11.2)\nRequirement already satisfied: psutil>=5.6.3 in /anaconda/envs/azureml_py38/lib/python3.8/site-packages (from opencensus-ext-azure<2.0.0->azure-ai-ml) (5.9.5)\nRequirement already satisfied: six in /anaconda/envs/azureml_py38/lib/python3.8/site-packages (from isodate->azure-ai-ml) (1.16.0)\nRequirement already satisfied: importlib-resources>=1.4.0; python_version < \"3.9\" in /anaconda/envs/azureml_py38/lib/python3.8/site-packages (from jsonschema<5.0.0,>=4.0.0->azure-ai-ml) (5.12.0)\nRequirement already satisfied: pyrsistent!=0.17.0,!=0.17.1,!=0.17.2,>=0.14.0 in /anaconda/envs/azureml_py38/lib/python3.8/site-packages (from jsonschema<5.0.0,>=4.0.0->azure-ai-ml) (0.19.3)\nRequirement already satisfied: pkgutil-resolve-name>=1.3.10; python_version < \"3.9\" in /anaconda/envs/azureml_py38/lib/python3.8/site-packages (from jsonschema<5.0.0,>=4.0.0->azure-ai-ml) (1.3.10)\nRequirement already satisfied: attrs>=17.4.0 in /anaconda/envs/azureml_py38/lib/python3.8/site-packages (from jsonschema<5.0.0,>=4.0.0->azure-ai-ml) (23.1.0)\nRequirement already satisfied: cffi>=1.12 in /anaconda/envs/azureml_py38/lib/python3.8/site-packages (from cryptography>=2.1.4->azure-storage-blob<13.0.0,>=12.10.0->azure-ai-ml) (1.15.1)\nRequirement already satisfied: idna<4,>=2.5 in /anaconda/envs/azureml_py38/lib/python3.8/site-packages (from requests~=2.16->msrest>=0.6.18->azure-ai-ml) (3.4)\nRequirement already satisfied: charset-normalizer<4,>=2 in /anaconda/envs/azureml_py38/lib/python3.8/site-packages (from requests~=2.16->msrest>=0.6.18->azure-ai-ml) (3.1.0)\nRequirement already satisfied: urllib3<3,>=1.21.1 in /anaconda/envs/azureml_py38/lib/python3.8/site-packages (from requests~=2.16->msrest>=0.6.18->azure-ai-ml) (1.26.16)\nRequirement already satisfied: oauthlib>=3.0.0 in /anaconda/envs/azureml_py38/lib/python3.8/site-packages (from requests-oauthlib>=0.5.0->msrest>=0.6.18->azure-ai-ml) (3.2.2)\nRequirement already satisfied: msal-extensions<2.0.0,>=0.3.0 in /anaconda/envs/azureml_py38/lib/python3.8/site-packages (from azure-identity<2.0.0,>=1.5.0->opencensus-ext-azure<2.0.0->azure-ai-ml) (1.0.0)\nRequirement already satisfied: msal<2.0.0,>=1.20.0 in /anaconda/envs/azureml_py38/lib/python3.8/site-packages (from azure-identity<2.0.0,>=1.5.0->opencensus-ext-azure<2.0.0->azure-ai-ml) (1.22.0)\nRequirement already satisfied: google-api-core<3.0.0,>=1.0.0; python_version >= \"3.6\" in /anaconda/envs/azureml_py38/lib/python3.8/site-packages (from opencensus<1.0.0,>=0.11.2->opencensus-ext-azure<2.0.0->azure-ai-ml) (2.11.0)\nRequirement already satisfied: opencensus-context>=0.1.3 in /anaconda/envs/azureml_py38/lib/python3.8/site-packages (from opencensus<1.0.0,>=0.11.2->opencensus-ext-azure<2.0.0->azure-ai-ml) (0.1.3)\nRequirement already satisfied: zipp>=3.1.0; python_version < \"3.10\" in /anaconda/envs/azureml_py38/lib/python3.8/site-packages (from importlib-resources>=1.4.0; python_version < \"3.9\"->jsonschema<5.0.0,>=4.0.0->azure-ai-ml) (3.12.0)\nRequirement already satisfied: pycparser in /anaconda/envs/azureml_py38/lib/python3.8/site-packages (from cffi>=1.12->cryptography>=2.1.4->azure-storage-blob<13.0.0,>=12.10.0->azure-ai-ml) (2.21)\nRequirement already satisfied: portalocker<3,>=1.0; python_version >= \"3.5\" and platform_system != \"Windows\" in /anaconda/envs/azureml_py38/lib/python3.8/site-packages (from msal-extensions<2.0.0,>=0.3.0->azure-identity<2.0.0,>=1.5.0->opencensus-ext-azure<2.0.0->azure-ai-ml) (2.7.0)\nRequirement already satisfied: google-auth<3.0dev,>=2.14.1 in /anaconda/envs/azureml_py38/lib/python3.8/site-packages (from google-api-core<3.0.0,>=1.0.0; python_version >= \"3.6\"->opencensus<1.0.0,>=0.11.2->opencensus-ext-azure<2.0.0->azure-ai-ml) (2.18.1)\nRequirement already satisfied: googleapis-common-protos<2.0dev,>=1.56.2 in /anaconda/envs/azureml_py38/lib/python3.8/site-packages (from google-api-core<3.0.0,>=1.0.0; python_version >= \"3.6\"->opencensus<1.0.0,>=0.11.2->opencensus-ext-azure<2.0.0->azure-ai-ml) (1.59.0)\nRequirement already satisfied: protobuf!=3.20.0,!=3.20.1,!=4.21.0,!=4.21.1,!=4.21.2,!=4.21.3,!=4.21.4,!=4.21.5,<5.0.0dev,>=3.19.5 in /anaconda/envs/azureml_py38/lib/python3.8/site-packages (from google-api-core<3.0.0,>=1.0.0; python_version >= \"3.6\"->opencensus<1.0.0,>=0.11.2->opencensus-ext-azure<2.0.0->azure-ai-ml) (3.20.3)\nRequirement already satisfied: cachetools<6.0,>=2.0.0 in /anaconda/envs/azureml_py38/lib/python3.8/site-packages (from google-auth<3.0dev,>=2.14.1->google-api-core<3.0.0,>=1.0.0; python_version >= \"3.6\"->opencensus<1.0.0,>=0.11.2->opencensus-ext-azure<2.0.0->azure-ai-ml) (5.3.0)\nRequirement already satisfied: rsa<5,>=3.1.4; python_version >= \"3.6\" in /anaconda/envs/azureml_py38/lib/python3.8/site-packages (from google-auth<3.0dev,>=2.14.1->google-api-core<3.0.0,>=1.0.0; python_version >= \"3.6\"->opencensus<1.0.0,>=0.11.2->opencensus-ext-azure<2.0.0->azure-ai-ml) (4.9)\nRequirement already satisfied: pyasn1-modules>=0.2.1 in /anaconda/envs/azureml_py38/lib/python3.8/site-packages (from google-auth<3.0dev,>=2.14.1->google-api-core<3.0.0,>=1.0.0; python_version >= \"3.6\"->opencensus<1.0.0,>=0.11.2->opencensus-ext-azure<2.0.0->azure-ai-ml) (0.3.0)\nRequirement already satisfied: pyasn1>=0.1.3 in /anaconda/envs/azureml_py38/lib/python3.8/site-packages (from rsa<5,>=3.1.4; python_version >= \"3.6\"->google-auth<3.0dev,>=2.14.1->google-api-core<3.0.0,>=1.0.0; python_version >= \"3.6\"->opencensus<1.0.0,>=0.11.2->opencensus-ext-azure<2.0.0->azure-ai-ml) (0.5.0)\n"
        }
      ],
      "execution_count": 1,
      "metadata": {
        "jupyter": {
          "source_hidden": false,
          "outputs_hidden": false
        },
        "nteract": {
          "transient": {
            "deleting": false
          }
        },
        "gather": {
          "logged": 1697927703233
        }
      }
    },
    {
      "cell_type": "code",
      "source": [
        "!pip install azure-identity"
      ],
      "outputs": [
        {
          "output_type": "stream",
          "name": "stdout",
          "text": "Requirement already satisfied: azure-identity in /anaconda/envs/azureml_py38/lib/python3.8/site-packages (1.13.0)\nRequirement already satisfied: msal-extensions<2.0.0,>=0.3.0 in /anaconda/envs/azureml_py38/lib/python3.8/site-packages (from azure-identity) (1.0.0)\nRequirement already satisfied: azure-core<2.0.0,>=1.11.0 in /anaconda/envs/azureml_py38/lib/python3.8/site-packages (from azure-identity) (1.26.4)\nRequirement already satisfied: msal<2.0.0,>=1.20.0 in /anaconda/envs/azureml_py38/lib/python3.8/site-packages (from azure-identity) (1.22.0)\nRequirement already satisfied: cryptography>=2.5 in /anaconda/envs/azureml_py38/lib/python3.8/site-packages (from azure-identity) (38.0.4)\nRequirement already satisfied: six>=1.12.0 in /anaconda/envs/azureml_py38/lib/python3.8/site-packages (from azure-identity) (1.16.0)\nRequirement already satisfied: portalocker<3,>=1.0; python_version >= \"3.5\" and platform_system != \"Windows\" in /anaconda/envs/azureml_py38/lib/python3.8/site-packages (from msal-extensions<2.0.0,>=0.3.0->azure-identity) (2.7.0)\nRequirement already satisfied: typing-extensions>=4.3.0 in /anaconda/envs/azureml_py38/lib/python3.8/site-packages (from azure-core<2.0.0,>=1.11.0->azure-identity) (4.6.0)\nRequirement already satisfied: requests>=2.18.4 in /anaconda/envs/azureml_py38/lib/python3.8/site-packages (from azure-core<2.0.0,>=1.11.0->azure-identity) (2.31.0)\nRequirement already satisfied: PyJWT[crypto]<3,>=1.0.0 in /anaconda/envs/azureml_py38/lib/python3.8/site-packages (from msal<2.0.0,>=1.20.0->azure-identity) (2.4.0)\nRequirement already satisfied: cffi>=1.12 in /anaconda/envs/azureml_py38/lib/python3.8/site-packages (from cryptography>=2.5->azure-identity) (1.15.1)\nRequirement already satisfied: idna<4,>=2.5 in /anaconda/envs/azureml_py38/lib/python3.8/site-packages (from requests>=2.18.4->azure-core<2.0.0,>=1.11.0->azure-identity) (3.4)\nRequirement already satisfied: urllib3<3,>=1.21.1 in /anaconda/envs/azureml_py38/lib/python3.8/site-packages (from requests>=2.18.4->azure-core<2.0.0,>=1.11.0->azure-identity) (1.26.16)\nRequirement already satisfied: charset-normalizer<4,>=2 in /anaconda/envs/azureml_py38/lib/python3.8/site-packages (from requests>=2.18.4->azure-core<2.0.0,>=1.11.0->azure-identity) (3.1.0)\nRequirement already satisfied: certifi>=2017.4.17 in /anaconda/envs/azureml_py38/lib/python3.8/site-packages (from requests>=2.18.4->azure-core<2.0.0,>=1.11.0->azure-identity) (2022.9.24)\nRequirement already satisfied: pycparser in /anaconda/envs/azureml_py38/lib/python3.8/site-packages (from cffi>=1.12->cryptography>=2.5->azure-identity) (2.21)\n"
        }
      ],
      "execution_count": 2,
      "metadata": {
        "jupyter": {
          "source_hidden": false,
          "outputs_hidden": false
        },
        "nteract": {
          "transient": {
            "deleting": false
          }
        },
        "gather": {
          "logged": 1697927714019
        }
      }
    },
    {
      "cell_type": "code",
      "source": [
        "pip install azureml-train-automl"
      ],
      "outputs": [
        {
          "output_type": "stream",
          "name": "stdout",
          "text": "Collecting azureml-train-automl\n  Using cached azureml_train_automl-1.33.0-py3-none-any.whl (3.4 kB)\nINFO: pip is looking at multiple versions of azureml-train-automl to determine which version is compatible with other requirements. This could take a while.\n  Using cached azureml_train_automl-1.32.0-py3-none-any.whl (3.4 kB)\n  Using cached azureml_train_automl-1.31.0-py3-none-any.whl (3.4 kB)\n  Using cached azureml_train_automl-1.30.0-py3-none-any.whl (3.4 kB)\n  Using cached azureml_train_automl-1.29.0-py3-none-any.whl (3.4 kB)\n  Using cached azureml_train_automl-1.28.0-py3-none-any.whl (3.4 kB)\n  Using cached azureml_train_automl-1.27.0-py3-none-any.whl (3.4 kB)\n  Using cached azureml_train_automl-1.26.0-py3-none-any.whl (3.4 kB)\nINFO: pip is looking at multiple versions of azureml-train-automl to determine which version is compatible with other requirements. This could take a while.\n  Using cached azureml_train_automl-1.25.0-py3-none-any.whl (3.4 kB)\n  Using cached azureml_train_automl-1.24.0-py3-none-any.whl (3.4 kB)\n  Using cached azureml_train_automl-1.23.0-py3-none-any.whl (3.4 kB)\n  Using cached azureml_train_automl-1.22.0-py3-none-any.whl (3.4 kB)\n  Using cached azureml_train_automl-1.21.0-py3-none-any.whl (3.4 kB)\nINFO: This is taking longer than usual. You might need to provide the dependency resolver with stricter constraints to reduce runtime. See https://pip.pypa.io/warnings/backtracking for guidance. If you want to abort this run, press Ctrl + C.\n  Using cached azureml_train_automl-1.20.0-py3-none-any.whl (3.4 kB)\n  Using cached azureml_train_automl-1.19.0-py3-none-any.whl (3.4 kB)\n  Using cached azureml_train_automl-1.18.0-py3-none-any.whl (3.4 kB)\nCollecting azureml-automl-core~=1.18.0 (from azureml-train-automl)\n  Using cached azureml_automl_core-1.18.0.post2-py3-none-any.whl (186 kB)\nCollecting azureml-automl-runtime~=1.18.0 (from azureml-train-automl)\n  Using cached azureml_automl_runtime-1.18.0.post2-py3-none-any.whl (1.9 MB)\nCollecting azureml-dataset-runtime[fuse,pandas]~=1.18.0 (from azureml-train-automl)\n  Using cached azureml_dataset_runtime-1.18.0-py3-none-any.whl (3.4 kB)\nCollecting azureml-train-automl-client~=1.18.0 (from azureml-train-automl)\n  Using cached azureml_train_automl_client-1.18.0-py3-none-any.whl (107 kB)\nCollecting azureml-train-automl-runtime~=1.18.0 (from azureml-train-automl)\n  Using cached azureml_train_automl_runtime-1.18.0.post1-py3-none-any.whl (119 kB)\nCollecting azureml-telemetry~=1.18.0 (from azureml-automl-core~=1.18.0->azureml-train-automl)\n  Using cached azureml_telemetry-1.18.0.post1-py3-none-any.whl (30 kB)\nCollecting dill<0.4.0,>=0.2.8 (from azureml-automl-runtime~=1.18.0->azureml-train-automl)\n  Using cached dill-0.3.7-py3-none-any.whl (115 kB)\nCollecting gensim<3.9.0 (from azureml-automl-runtime~=1.18.0->azureml-train-automl)\n  Using cached gensim-3.8.3.tar.gz (23.4 MB)\n  Preparing metadata (setup.py) ... \u001b[?25l-\b \b\\\b \bdone\n\u001b[?25hCollecting smart-open<=1.9.0 (from azureml-automl-runtime~=1.18.0->azureml-train-automl)\n  Using cached smart_open-1.9.0.tar.gz (70 kB)\n  Preparing metadata (setup.py) ... \u001b[?25l-\b \bdone\n\u001b[?25hCollecting lightgbm<=2.3.0,>=2.0.11 (from azureml-automl-runtime~=1.18.0->azureml-train-automl)\n  Using cached lightgbm-2.3.0-py2.py3-none-manylinux1_x86_64.whl (1.3 MB)\nCollecting numpy<1.19.0,>=1.16.0 (from azureml-automl-runtime~=1.18.0->azureml-train-automl)\n  Using cached numpy-1.18.5.zip (5.4 MB)\n  Installing build dependencies ... \u001b[?25l-\b \b\\\b \b|\b \b/\b \b-\b \b\\\b \bdone\n\u001b[?25h  Getting requirements to build wheel ... \u001b[?25l-\b \b\\\b \bdone\n\u001b[?25h  Preparing metadata (pyproject.toml) ... \u001b[?25l-\b \b\\\b \b|\b \b/\b \berror\n  \u001b[1;31merror\u001b[0m: \u001b[1msubprocess-exited-with-error\u001b[0m\n  \n  \u001b[31m×\u001b[0m \u001b[32mPreparing metadata \u001b[0m\u001b[1;32m(\u001b[0m\u001b[32mpyproject.toml\u001b[0m\u001b[1;32m)\u001b[0m did not run successfully.\n  \u001b[31m│\u001b[0m exit code: \u001b[1;36m1\u001b[0m\n  \u001b[31m╰─>\u001b[0m \u001b[31m[54 lines of output]\u001b[0m\n  \u001b[31m   \u001b[0m Running from numpy source directory.\n  \u001b[31m   \u001b[0m <string>:461: UserWarning: Unrecognized setuptools command, proceeding with generating Cython sources and expanding templates\n  \u001b[31m   \u001b[0m /tmp/pip-install-6socscpq/numpy_c9dcf1901dfe49058b7c7bb558900d1b/tools/cythonize.py:75: DeprecationWarning: distutils Version classes are deprecated. Use packaging.version instead.\n  \u001b[31m   \u001b[0m   required_version = LooseVersion('0.29.14')\n  \u001b[31m   \u001b[0m /tmp/pip-install-6socscpq/numpy_c9dcf1901dfe49058b7c7bb558900d1b/tools/cythonize.py:77: DeprecationWarning: distutils Version classes are deprecated. Use packaging.version instead.\n  \u001b[31m   \u001b[0m   if LooseVersion(cython_version) < required_version:\n  \u001b[31m   \u001b[0m \n  \u001b[31m   \u001b[0m Error compiling Cython file:\n  \u001b[31m   \u001b[0m ------------------------------------------------------------\n  \u001b[31m   \u001b[0m ...\n  \u001b[31m   \u001b[0m     def __init__(self, seed=None):\n  \u001b[31m   \u001b[0m         BitGenerator.__init__(self, seed)\n  \u001b[31m   \u001b[0m         self.rng_state.pcg_state = &self.pcg64_random_state\n  \u001b[31m   \u001b[0m \n  \u001b[31m   \u001b[0m         self._bitgen.state = <void *>&self.rng_state\n  \u001b[31m   \u001b[0m         self._bitgen.next_uint64 = &pcg64_uint64\n  \u001b[31m   \u001b[0m                                    ^\n  \u001b[31m   \u001b[0m ------------------------------------------------------------\n  \u001b[31m   \u001b[0m \n  \u001b[31m   \u001b[0m _pcg64.pyx:113:35: Cannot assign type 'uint64_t (*)(void *) except? -1 nogil' to 'uint64_t (*)(void *) noexcept nogil'. Exception values are incompatible. Suggest adding 'noexcept' to type 'uint64_t (void *) except? -1 nogil'.\n  \u001b[31m   \u001b[0m Processing numpy/random/_bounded_integers.pxd.in\n  \u001b[31m   \u001b[0m Processing numpy/random/_pcg64.pyx\n  \u001b[31m   \u001b[0m Traceback (most recent call last):\n  \u001b[31m   \u001b[0m   File \"/tmp/pip-install-6socscpq/numpy_c9dcf1901dfe49058b7c7bb558900d1b/tools/cythonize.py\", line 238, in <module>\n  \u001b[31m   \u001b[0m     main()\n  \u001b[31m   \u001b[0m   File \"/tmp/pip-install-6socscpq/numpy_c9dcf1901dfe49058b7c7bb558900d1b/tools/cythonize.py\", line 234, in main\n  \u001b[31m   \u001b[0m     find_process_files(root_dir)\n  \u001b[31m   \u001b[0m   File \"/tmp/pip-install-6socscpq/numpy_c9dcf1901dfe49058b7c7bb558900d1b/tools/cythonize.py\", line 225, in find_process_files\n  \u001b[31m   \u001b[0m     process(root_dir, fromfile, tofile, function, hash_db)\n  \u001b[31m   \u001b[0m   File \"/tmp/pip-install-6socscpq/numpy_c9dcf1901dfe49058b7c7bb558900d1b/tools/cythonize.py\", line 191, in process\n  \u001b[31m   \u001b[0m     processor_function(fromfile, tofile)\n  \u001b[31m   \u001b[0m   File \"/tmp/pip-install-6socscpq/numpy_c9dcf1901dfe49058b7c7bb558900d1b/tools/cythonize.py\", line 80, in process_pyx\n  \u001b[31m   \u001b[0m     subprocess.check_call(\n  \u001b[31m   \u001b[0m   File \"/anaconda/envs/azureml_py310_sdkv2/lib/python3.10/subprocess.py\", line 369, in check_call\n  \u001b[31m   \u001b[0m     raise CalledProcessError(retcode, cmd)\n  \u001b[31m   \u001b[0m subprocess.CalledProcessError: Command '['/anaconda/envs/azureml_py310_sdkv2/bin/python', '-m', 'cython', '-3', '--fast-fail', '-o', '_pcg64.c', '_pcg64.pyx']' returned non-zero exit status 1.\n  \u001b[31m   \u001b[0m Cythonizing sources\n  \u001b[31m   \u001b[0m Traceback (most recent call last):\n  \u001b[31m   \u001b[0m   File \"/anaconda/envs/azureml_py310_sdkv2/lib/python3.10/site-packages/pip/_vendor/pyproject_hooks/_in_process/_in_process.py\", line 353, in <module>\n  \u001b[31m   \u001b[0m     main()\n  \u001b[31m   \u001b[0m   File \"/anaconda/envs/azureml_py310_sdkv2/lib/python3.10/site-packages/pip/_vendor/pyproject_hooks/_in_process/_in_process.py\", line 335, in main\n  \u001b[31m   \u001b[0m     json_out['return_val'] = hook(**hook_input['kwargs'])\n  \u001b[31m   \u001b[0m   File \"/anaconda/envs/azureml_py310_sdkv2/lib/python3.10/site-packages/pip/_vendor/pyproject_hooks/_in_process/_in_process.py\", line 149, in prepare_metadata_for_build_wheel\n  \u001b[31m   \u001b[0m     return hook(metadata_directory, config_settings)\n  \u001b[31m   \u001b[0m   File \"/tmp/pip-build-env-_dvzwqlw/overlay/lib/python3.10/site-packages/setuptools/build_meta.py\", line 396, in prepare_metadata_for_build_wheel\n  \u001b[31m   \u001b[0m     self.run_setup()\n  \u001b[31m   \u001b[0m   File \"/tmp/pip-build-env-_dvzwqlw/overlay/lib/python3.10/site-packages/setuptools/build_meta.py\", line 507, in run_setup\n  \u001b[31m   \u001b[0m     super(_BuildMetaLegacyBackend, self).run_setup(setup_script=setup_script)\n  \u001b[31m   \u001b[0m   File \"/tmp/pip-build-env-_dvzwqlw/overlay/lib/python3.10/site-packages/setuptools/build_meta.py\", line 341, in run_setup\n  \u001b[31m   \u001b[0m     exec(code, locals())\n  \u001b[31m   \u001b[0m   File \"<string>\", line 488, in <module>\n  \u001b[31m   \u001b[0m   File \"<string>\", line 469, in setup_package\n  \u001b[31m   \u001b[0m   File \"<string>\", line 275, in generate_cython\n  \u001b[31m   \u001b[0m RuntimeError: Running cythonize failed!\n  \u001b[31m   \u001b[0m \u001b[31m[end of output]\u001b[0m\n  \n  \u001b[1;35mnote\u001b[0m: This error originates from a subprocess, and is likely not a problem with pip.\n\u001b[1;31merror\u001b[0m: \u001b[1mmetadata-generation-failed\u001b[0m\n\n\u001b[31m×\u001b[0m Encountered error while generating package metadata.\n\u001b[31m╰─>\u001b[0m See above for output.\n\n\u001b[1;35mnote\u001b[0m: This is an issue with the package mentioned above, not pip.\n\u001b[1;36mhint\u001b[0m: See above for details.\n\u001b[?25hNote: you may need to restart the kernel to use updated packages.\n"
        }
      ],
      "execution_count": 3,
      "metadata": {
        "jupyter": {
          "source_hidden": false,
          "outputs_hidden": false
        },
        "nteract": {
          "transient": {
            "deleting": false
          }
        },
        "gather": {
          "logged": 1698511207241
        }
      }
    },
    {
      "cell_type": "code",
      "source": [
        "import pandas as pd\n",
        "import os\n",
        "import logging\n",
        "from azure.identity import DefaultAzureCredential\n",
        "from azure.ai.ml.constants import AssetTypes, InputOutputModes\n",
        "from azure.ai.ml import automl, Input, MLClient\n",
        "from pprint import pprint\n",
        "from azure.ai.ml.entities import ResourceConfiguration\n",
        "from sklearn.model_selection import train_test_split\n",
        "from azure.ai.ml.entities import AmlCompute\n",
        "from azure.core.exceptions import ResourceExistsError, ResourceNotFoundError\n",
        "import azureml.core\n",
        "import mltable\n",
        "from mltable import MLTableHeaders, MLTableFileEncoding, DataType"
      ],
      "outputs": [],
      "execution_count": 4,
      "metadata": {
        "gather": {
          "logged": 1698511211852
        }
      }
    },
    {
      "cell_type": "markdown",
      "source": [
        "# <mark>**CARGA DE CREDENCIALES**</mark>"
      ],
      "metadata": {
        "nteract": {
          "transient": {
            "deleting": false
          }
        }
      }
    },
    {
      "cell_type": "code",
      "source": [
        "credential = DefaultAzureCredential()\n",
        "ml_client = MLClient.from_config(credential)"
      ],
      "outputs": [
        {
          "output_type": "stream",
          "name": "stderr",
          "text": "Found the config file in: /config.json\n"
        }
      ],
      "execution_count": 5,
      "metadata": {
        "jupyter": {
          "source_hidden": false,
          "outputs_hidden": false
        },
        "nteract": {
          "transient": {
            "deleting": false
          }
        },
        "gather": {
          "logged": 1698511260461
        }
      }
    },
    {
      "cell_type": "markdown",
      "source": [
        "## <mark>**PROCEDER A DESCARGAR EL DATASET YA FILTRADO PARA EL ENTRENAMIENTO**</mark>"
      ],
      "metadata": {
        "nteract": {
          "transient": {
            "deleting": false
          }
        }
      }
    },
    {
      "cell_type": "markdown",
      "source": [
        "SE PROCEDIO A REALIZAR TAMBIEN LA DIVISION DEL DATA PARA LA PARTE DEL ENTRENAMIENTO EN UN 80% Y LA VALIDACION EN 20%, POSTERIORMENTE SE GUARDO LOS DATAS CREADOS PARA SU UTILIZACION EN EL ENTRENAMIENTO DEL MODELO. "
      ],
      "metadata": {
        "nteract": {
          "transient": {
            "deleting": false
          }
        }
      }
    },
    {
      "cell_type": "code",
      "source": [
        "df = pd.read_csv('./data/bebedores_alcohol_compri.csv')\n",
        "train, test = train_test_split(df, test_size=0.2, random_state=42)\n",
        "train. to_csv ( './data/training-table/train_data.csv', index=False, encoding='utf-8')\n",
        "test. to_csv ( './data/validation-table/valid_data.csv', index=False, encoding='utf-8')"
      ],
      "outputs": [],
      "execution_count": 6,
      "metadata": {
        "jupyter": {
          "source_hidden": false,
          "outputs_hidden": false
        },
        "nteract": {
          "transient": {
            "deleting": false
          }
        },
        "gather": {
          "logged": 1698511266950
        }
      }
    },
    {
      "cell_type": "markdown",
      "source": [
        "TAMBEIN SE CREARON LOS MLTABLE DE CADA UNOS DE LOS DATASET PARA EL ENTRENAMIENTO, PARA QUE AL EL PATCH. "
      ],
      "metadata": {
        "nteract": {
          "transient": {
            "deleting": false
          }
        }
      }
    },
    {
      "cell_type": "code",
      "source": [
        "paths = [{\"file\": \"./data/training-table/train_data.csv\"}]\n",
        "tbl = mltable.from_delimited_files(\n",
        "    paths= paths,\n",
        "    delimiter=\",\",\n",
        "    header=MLTableHeaders.all_files_same_headers,\n",
        "    infer_column_types=True,\n",
        "    include_path_column=False,\n",
        "    encoding=MLTableFileEncoding.utf8,\n",
        ")\n",
        "mltable_folder = \"./data/training-table/\"\n",
        "tbl.save(mltable_folder)"
      ],
      "outputs": [],
      "execution_count": 7,
      "metadata": {
        "jupyter": {
          "source_hidden": false,
          "outputs_hidden": false
        },
        "nteract": {
          "transient": {
            "deleting": false
          }
        },
        "gather": {
          "logged": 1698511270438
        }
      }
    },
    {
      "cell_type": "code",
      "source": [
        "paths = [{\"file\": \"./data/validation-table/valid_data.csv\"}]\n",
        "tbl = mltable.from_delimited_files(\n",
        "    paths= paths,\n",
        "    delimiter=\",\",\n",
        "    header=MLTableHeaders.all_files_same_headers,\n",
        "    infer_column_types=True,\n",
        "    include_path_column=False,\n",
        "    encoding=MLTableFileEncoding.utf8,\n",
        ")\n",
        "mltable_folder = \"./data/validation-table/\"\n",
        "tbl.save(mltable_folder)"
      ],
      "outputs": [],
      "execution_count": 8,
      "metadata": {
        "jupyter": {
          "source_hidden": false,
          "outputs_hidden": false
        },
        "nteract": {
          "transient": {
            "deleting": false
          }
        },
        "gather": {
          "logged": 1698511271700
        }
      }
    },
    {
      "cell_type": "markdown",
      "source": [
        "SE PRECEDE A COLOCAR LOS DATASET EN ENTRADAS UTILIZABLES PARA EL MODELO."
      ],
      "metadata": {
        "nteract": {
          "transient": {
            "deleting": false
          }
        }
      }
    },
    {
      "cell_type": "code",
      "source": [
        "training_mltable_path = \"./data/training-table/\"\n",
        "validation_mltable_path = \"./data/validation-table/\"\n",
        "\n",
        "# Training MLTable defined locally, with local data to be uploaded\n",
        "my_training_data_input = Input(type=AssetTypes.MLTABLE, path=training_mltable_path)\n",
        "\n",
        "# Validation MLTable defined locally, with local data to be uploaded\n",
        "my_validation_data_input = Input(type=AssetTypes.MLTABLE, path=validation_mltable_path)"
      ],
      "outputs": [],
      "execution_count": 9,
      "metadata": {
        "jupyter": {
          "source_hidden": false,
          "outputs_hidden": false
        },
        "nteract": {
          "transient": {
            "deleting": false
          }
        },
        "gather": {
          "logged": 1698511274432
        }
      }
    },
    {
      "cell_type": "markdown",
      "source": [
        "# <mark>**CREACION DEL CLUSTER PARA LA UTILIZACION EN EL ENTRENAMIENTO DE MODELOS**</mark>"
      ],
      "metadata": {
        "nteract": {
          "transient": {
            "deleting": false
          }
        }
      }
    },
    {
      "cell_type": "markdown",
      "source": [
        "EN ESTE PASO SE ESCOGIO EL\"STANDAR_E4DS_V4\" YA QUE ESTE CLUSTER ESTA OPTIMIZADO PARA EL USO DE MEMORIA Y PARA DATAS NO TAN GRANDES, CONTANDO CON 4 GB DE RAM, 32GB DE MEMORIA Y UN PROCESADOR INTEL(R) XEON(R) PLATINUM 8272CL CPU @ 2.60GHZ.\n",
        "SE UTILIZO EL MAXIMO CANTIDAD DE NODOS PERMITIDOS POR ESTE CLUSTER QUE SON 2."
      ],
      "metadata": {
        "nteract": {
          "transient": {
            "deleting": false
          }
        }
      }
    },
    {
      "cell_type": "code",
      "source": [
        "compute_name = \"Cpu-Cluster-E4dsv4\"\n",
        "\n",
        "try:\n",
        "    _ = ml_client.compute.get(compute_name)\n",
        "    print(\"Found existing compute target.\")\n",
        "except ResourceNotFoundError:\n",
        "    print(\"Creating a new compute target...\")\n",
        "    compute_config = AmlCompute(\n",
        "        name = compute_name,\n",
        "        type = \"amlcompute\",\n",
        "        size = \"Standard_E4ds_v4\",\n",
        "        idle_time_before_scale_down = 120,\n",
        "        min_instances = 0,\n",
        "        max_instances = 2,\n",
        "    )\n",
        "    ml_client.begin_create_or_update(compute_config).result()"
      ],
      "outputs": [
        {
          "output_type": "stream",
          "name": "stdout",
          "text": "Found existing compute target.\n"
        }
      ],
      "execution_count": 10,
      "metadata": {
        "jupyter": {
          "source_hidden": false,
          "outputs_hidden": false
        },
        "nteract": {
          "transient": {
            "deleting": false
          }
        },
        "gather": {
          "logged": 1698511277898
        }
      }
    },
    {
      "cell_type": "markdown",
      "source": [
        "# <mark>**Experimento**</mark>"
      ],
      "metadata": {
        "nteract": {
          "transient": {
            "deleting": false
          }
        }
      }
    },
    {
      "cell_type": "markdown",
      "source": [
        "AQUI CONFIGURAMOS EL EXPERIMENTO QUE RALIZARA UNA TAREA DE CLASIFICACION CON LOS DATAS DE ENTRENAMIENTO Y VALIDACION, CON UNA METRICA BASADA EN LA PRECISION, E UTILIZANDO LA COLUMNA DE SALIDA DE SI BEBE O NO ALCOHOL, SE PROCEDIO A TAMBIEN COLOCAR UN LIMITE DE TIEMPO QUE TRABAJE EL ENTRENAMIENTO DE 30 MINUTOS Y QUE SOLO REALICE HASTA 8 MODELOS CON UN TRABAJO EN PARALELO DE 2."
      ],
      "metadata": {
        "nteract": {
          "transient": {
            "deleting": false
          }
        }
      }
    },
    {
      "cell_type": "code",
      "source": [
        "exp_name = 'clasificacion'\n",
        "exp_timeout = 30\n",
        "classification_job = automl.classification(\n",
        "    compute = compute_name,\n",
        "    experiment_name = exp_name,\n",
        "    training_data = my_training_data_input,\n",
        "    validation_data = my_validation_data_input,\n",
        "    target_column_name = \"DRK_YN\",\n",
        "    primary_metric = \"accuracy\",\n",
        "    tags = {\"my_custom_tag\": \"My_custon_value\"},\n",
        ")\n",
        "classification_job.set_limits(\n",
        "    timeout_minutes=exp_timeout,\n",
        "    max_trials=8,\n",
        "    max_concurrent_trials=2,\n",
        "    )\n"
      ],
      "outputs": [],
      "execution_count": 11,
      "metadata": {
        "jupyter": {
          "source_hidden": false,
          "outputs_hidden": false
        },
        "nteract": {
          "transient": {
            "deleting": false
          }
        },
        "gather": {
          "logged": 1698511283034
        }
      }
    },
    {
      "cell_type": "markdown",
      "source": [
        "LUEGO SE ENVIO EL JOB A AUTOML PARA QUE SE EJECUTE."
      ],
      "metadata": {
        "nteract": {
          "transient": {
            "deleting": false
          }
        }
      }
    },
    {
      "cell_type": "code",
      "source": [
        "returned_job = ml_client.jobs.create_or_update(\n",
        "    classification_job\n",
        ")  # submit the job to the backend\n",
        "\n",
        "print(f\"Created job: {returned_job}\")"
      ],
      "outputs": [
        {
          "output_type": "stream",
          "name": "stderr",
          "text": "\u001b[32mUploading training-table (15.1 MBs): 100%|██████████| 15098272/15098272 [00:00<00:00, 33903003.75it/s]\n\u001b[39m\n\n\u001b[32mUploading validation-table (3.77 MBs): 100%|██████████| 3774695/3774695 [00:00<00:00, 15098823.20it/s]\n\u001b[39m\n\n"
        },
        {
          "output_type": "stream",
          "name": "stdout",
          "text": "Created job: compute: azureml:Cpu-Cluster-E4dsv4\ncreation_context:\n  created_at: '2023-10-28T16:41:31.345756+00:00'\n  created_by: maribel atahuichi\n  created_by_type: User\ndisplay_name: calm_turtle_jyc80gz19c\nexperiment_name: clasificacion\nid: azureml:/subscriptions/fc14670d-c5e7-4c9f-aaa4-11ab881abb5f/resourceGroups/proyecto1-modulo4/providers/Microsoft.MachineLearningServices/workspaces/proyecto1/jobs/calm_turtle_jyc80gz19c\nlimits:\n  enable_early_termination: true\n  max_concurrent_trials: 2\n  max_cores_per_trial: -1\n  max_nodes: 1\n  max_trials: 8\n  timeout_minutes: 30\n  trial_timeout_minutes: 30\nlog_verbosity: info\nname: calm_turtle_jyc80gz19c\noutputs: {}\nprimary_metric: accuracy\nproperties: {}\nresources:\n  instance_count: 1\n  shm_size: 2g\nservices:\n  Studio:\n    endpoint: https://ml.azure.com/runs/calm_turtle_jyc80gz19c?wsid=/subscriptions/fc14670d-c5e7-4c9f-aaa4-11ab881abb5f/resourcegroups/proyecto1-modulo4/workspaces/proyecto1&tid=ce634528-6f22-4a15-a253-f0d189edbe44\n  Tracking:\n    endpoint: azureml://eastus.api.azureml.ms/mlflow/v1.0/subscriptions/fc14670d-c5e7-4c9f-aaa4-11ab881abb5f/resourceGroups/proyecto1-modulo4/providers/Microsoft.MachineLearningServices/workspaces/proyecto1?\nstatus: NotStarted\ntags:\n  my_custom_tag: My_custon_value\ntarget_column_name: DRK_YN\ntask: classification\ntraining:\n  enable_dnn_training: false\n  enable_model_explainability: true\n  enable_onnx_compatible_models: false\n  enable_stack_ensemble: true\n  enable_vote_ensemble: true\n  ensemble_model_download_timeout_minutes: 5\n  training_mode: auto\ntraining_data:\n  path: azureml://datastores/workspaceblobstore/paths/LocalUpload/8b750688943c06f20a256eba1f9c792f/training-table\n  type: mltable\ntype: automl\nvalidation_data:\n  path: azureml://datastores/workspaceblobstore/paths/LocalUpload/c15f79aae69b072a696a022d98ab3cc6/validation-table\n  type: mltable\n\n"
        }
      ],
      "execution_count": 12,
      "metadata": {
        "jupyter": {
          "source_hidden": false,
          "outputs_hidden": false
        },
        "nteract": {
          "transient": {
            "deleting": false
          }
        },
        "gather": {
          "logged": 1698511292678
        }
      }
    },
    {
      "cell_type": "markdown",
      "source": [
        "COMANDO PARA VER EN QUE ESTADO ESTA EL ENTRENAMIENTO DE MODELOS."
      ],
      "metadata": {
        "nteract": {
          "transient": {
            "deleting": false
          }
        }
      }
    },
    {
      "cell_type": "code",
      "source": [
        "ml_client.jobs.stream(returned_job.name) "
      ],
      "outputs": [
        {
          "output_type": "stream",
          "name": "stdout",
          "text": "RunId: calm_turtle_jyc80gz19c\nWeb View: https://ml.azure.com/runs/calm_turtle_jyc80gz19c?wsid=/subscriptions/fc14670d-c5e7-4c9f-aaa4-11ab881abb5f/resourcegroups/proyecto1-modulo4/workspaces/proyecto1\n\nExecution Summary\n=================\nRunId: calm_turtle_jyc80gz19c\nWeb View: https://ml.azure.com/runs/calm_turtle_jyc80gz19c?wsid=/subscriptions/fc14670d-c5e7-4c9f-aaa4-11ab881abb5f/resourcegroups/proyecto1-modulo4/workspaces/proyecto1\n\n"
        }
      ],
      "execution_count": 13,
      "metadata": {
        "jupyter": {
          "source_hidden": false,
          "outputs_hidden": false
        },
        "nteract": {
          "transient": {
            "deleting": false
          }
        },
        "gather": {
          "logged": 1698512165030
        }
      }
    },
    {
      "cell_type": "code",
      "source": [
        "import mlflow\n",
        "\n",
        "# Obtain the tracking URL from MLClient\n",
        "MLFLOW_TRACKING_URI = ml_client.workspaces.get(\n",
        "    name=ml_client.workspace_name\n",
        ").mlflow_tracking_uri\n",
        "\n",
        "print(MLFLOW_TRACKING_URI)"
      ],
      "outputs": [
        {
          "output_type": "stream",
          "name": "stdout",
          "text": "azureml://eastus.api.azureml.ms/mlflow/v1.0/subscriptions/fc14670d-c5e7-4c9f-aaa4-11ab881abb5f/resourceGroups/proyecto1-modulo4/providers/Microsoft.MachineLearningServices/workspaces/proyecto1\n"
        }
      ],
      "execution_count": 14,
      "metadata": {
        "jupyter": {
          "source_hidden": false,
          "outputs_hidden": false
        },
        "nteract": {
          "transient": {
            "deleting": false
          }
        },
        "gather": {
          "logged": 1698512870868
        }
      }
    },
    {
      "cell_type": "code",
      "source": [
        "mlflow.set_tracking_uri(MLFLOW_TRACKING_URI)"
      ],
      "outputs": [],
      "execution_count": 15,
      "metadata": {
        "jupyter": {
          "source_hidden": false,
          "outputs_hidden": false
        },
        "nteract": {
          "transient": {
            "deleting": false
          }
        },
        "gather": {
          "logged": 1698512873823
        }
      }
    },
    {
      "cell_type": "code",
      "source": [
        "from mlflow.tracking.client import MlflowClient\n",
        "from mlflow.artifacts import download_artifacts\n",
        "\n",
        "# Initialize MLFlow client\n",
        "mlflow_client = MlflowClient()"
      ],
      "outputs": [],
      "execution_count": 16,
      "metadata": {
        "jupyter": {
          "source_hidden": false,
          "outputs_hidden": false
        },
        "nteract": {
          "transient": {
            "deleting": false
          }
        },
        "gather": {
          "logged": 1698512875810
        }
      }
    },
    {
      "cell_type": "markdown",
      "source": [
        "<mark>**PRECEDEMOS A OBTENER LA INFORMACION DEL JOB**</mark>"
      ],
      "metadata": {
        "nteract": {
          "transient": {
            "deleting": false
          }
        }
      }
    },
    {
      "cell_type": "code",
      "source": [
        "job = ml_client.jobs.get(name='calm_turtle_jyc80gz19c')"
      ],
      "outputs": [],
      "execution_count": 18,
      "metadata": {
        "jupyter": {
          "source_hidden": false,
          "outputs_hidden": false
        },
        "nteract": {
          "transient": {
            "deleting": false
          }
        },
        "gather": {
          "logged": 1698512909298
        }
      }
    },
    {
      "cell_type": "code",
      "source": [
        "mlflow_parent_run = mlflow_client.get_run(job.name)"
      ],
      "outputs": [],
      "execution_count": 19,
      "metadata": {
        "jupyter": {
          "source_hidden": false,
          "outputs_hidden": false
        },
        "nteract": {
          "transient": {
            "deleting": false
          }
        },
        "gather": {
          "logged": 1698512911666
        }
      }
    },
    {
      "cell_type": "code",
      "source": [
        "print(mlflow_parent_run)"
      ],
      "outputs": [
        {
          "output_type": "stream",
          "name": "stdout",
          "text": "<Run: data=<RunData: metrics={'AUC_macro': 0.7906512174377998,\n 'AUC_micro': 0.7908162421812797,\n 'AUC_weighted': 0.7906512174377998,\n 'accuracy': 0.7139560688976875,\n 'average_precision_score_macro': 0.7864441325664651,\n 'average_precision_score_micro': 0.7869097934850179,\n 'average_precision_score_weighted': 0.7864488153589011,\n 'balanced_accuracy': 0.7139630565438447,\n 'f1_score_macro': 0.7139373808007399,\n 'f1_score_micro': 0.7139560688976874,\n 'f1_score_weighted': 0.7139355149065049,\n 'log_loss': 0.5653932738160792,\n 'matthews_correlation': 0.42798762054147765,\n 'norm_macro_recall': 0.42792611308768946,\n 'precision_score_macro': 0.7140245684179836,\n 'precision_score_micro': 0.7139560688976875,\n 'precision_score_weighted': 0.7140278254531239,\n 'recall_score_macro': 0.7139630565438447,\n 'recall_score_micro': 0.7139560688976875,\n 'recall_score_weighted': 0.7139560688976875,\n 'weighted_accuracy': 0.7139490812606313}, params={}, tags={'automl_best_child_run_id': 'calm_turtle_jyc80gz19c_6',\n 'fit_time_000': '2.3474779999999997;10.974657;5.535127;5.034813;1.04532;0.6331910000000001;5;46',\n 'iteration_000': '0;1;2;3;4;5;6;7',\n 'mlflow.rootRunId': 'calm_turtle_jyc80gz19c',\n 'mlflow.runName': 'calm_turtle_jyc80gz19c',\n 'mlflow.user': 'maribel atahuichi',\n 'model_explain_best_run_child_id': 'calm_turtle_jyc80gz19c_6',\n 'model_explain_run': 'best_run',\n 'my_custom_tag': 'My_custon_value',\n 'pipeline_id_000': '5dfac790c5c209f98a1da2dc1c7fb76f0397324f;c7af0367625be6ac5c2fecbfc72ed444cb7a2111;799d2168db11fc19b9e1c6c1df62f8981ad39fe9;44b5d2d23120dfcf96a7dc6389a293d17a966b1b;3735210984ea10097d5c91905cf6300ac278cd89;5304e705d6f401cb07f85bcf0ca59ac1f84dfcf5;__AutoML_Ensemble__;__AutoML_Stack_Ensemble__',\n 'predicted_cost_000': '0;0;0.5;0.5;0.5;0.5;0;0',\n 'run_algorithm_000': 'LightGBM;XGBoostClassifier;ExtremeRandomTrees;XGBoostClassifier;LightGBM;LightGBM;VotingEnsemble;StackEnsemble',\n 'run_preprocessor_000': 'MaxAbsScaler;MaxAbsScaler;MaxAbsScaler;SparseNormalizer;MaxAbsScaler;MaxAbsScaler;;',\n 'score_000': '0.7131868963256248;0.7128086147328071;0.6941088946611857;0.7035659344816281;0.7099588934002471;0.7022167301339117;0.7139560688976875;0.7136156154641515',\n 'training_percent_000': '100;100;100;100;100;100;100;100'}>, info=<RunInfo: artifact_uri='azureml://eastus.api.azureml.ms/mlflow/v2.0/subscriptions/fc14670d-c5e7-4c9f-aaa4-11ab881abb5f/resourceGroups/proyecto1-modulo4/providers/Microsoft.MachineLearningServices/workspaces/proyecto1/experiments/c0d6d7f7-e382-4016-804b-05bd508e02c8/runs/calm_turtle_jyc80gz19c/artifacts', end_time=1698512139058, experiment_id='c0d6d7f7-e382-4016-804b-05bd508e02c8', lifecycle_stage='active', run_id='calm_turtle_jyc80gz19c', run_name='calm_turtle_jyc80gz19c', run_uuid='calm_turtle_jyc80gz19c', start_time=1698511308160, status='FINISHED', user_id='eea4d92c-0eaa-46e9-b5e3-a700e03ceedc'>, inputs=<RunInputs: dataset_inputs=[]>>\n"
        }
      ],
      "execution_count": 20,
      "metadata": {
        "jupyter": {
          "source_hidden": false,
          "outputs_hidden": false
        },
        "nteract": {
          "transient": {
            "deleting": false
          }
        },
        "gather": {
          "logged": 1698512914157
        }
      }
    },
    {
      "cell_type": "markdown",
      "source": [
        "LOS MODELOS QUE UTILIZO AUTOML SON: “VOTINGENSEMBLE”, \"STACKENSEMBLE”, “MAXABSSCALER, XGBOOSTCLASSIFIER”, “SPARSENORMALIZER, XGBOOSTCLASSIFIER”, “MAXABSSCALER, LIGHTGBM”, “MAXABSSCALER, EXTREMERANDOMTREES”, EL MAXABSSCALER LO UTILIZO 3 VECES PERO CON DIFERENTES HIPERPARAMETROS.\n",
        "EL MEJOR MODELO QUE SACO ES EL DE VOTINGENSEBLE CON UNA PRESICION DEL 0.7167.\n",
        "LOS HIPERPARAMETROS UTILIZADOS POR AUTOML SON:“algorithm : ['LightGBM', 'XGBoostClassifier', 'LightGBM', 'XGBoostClassifier']”, “min_data_in_leaf : 20”, “tree_method : auto”,  “boosting_type : gbdt”, “colsample_bytree : 0.6933333333333332”, “learning_rate : 0.09473736842105263”, “max_bin : 110, max_depth : 8, +8”, “booster : gbtree, colsample_bytree : 0.7, eta : 0.01, gamma : 0.01, max_depth : 7, +7”, ”boosting_type : gbdt, colsample_bytree : 0.5944444444444444, learning_rate : 0.06316157894736842, max_bin : 260, max_depth : 6, +8”, “bootstrap : true, class_weight : balanced, criterion : Gini, max_features : sqrt, min_samples_leaf : 0.01, +3” \n"
      ],
      "metadata": {
        "nteract": {
          "transient": {
            "deleting": false
          }
        }
      }
    },
    {
      "cell_type": "markdown",
      "source": [
        "<mark>**AQUI SACAMOS EL MEJOR MODELO QUE SE ENTRENO**</mark>"
      ],
      "metadata": {
        "nteract": {
          "transient": {
            "deleting": false
          }
        }
      }
    },
    {
      "cell_type": "code",
      "source": [
        "best_child_run_id = mlflow_parent_run.data.tags[\"automl_best_child_run_id\"]"
      ],
      "outputs": [],
      "execution_count": 21,
      "metadata": {
        "jupyter": {
          "source_hidden": false,
          "outputs_hidden": false
        },
        "nteract": {
          "transient": {
            "deleting": false
          }
        },
        "gather": {
          "logged": 1698512930496
        }
      }
    },
    {
      "cell_type": "code",
      "source": [
        "best_run = mlflow_client.get_run(best_child_run_id)"
      ],
      "outputs": [],
      "execution_count": 22,
      "metadata": {
        "jupyter": {
          "source_hidden": false,
          "outputs_hidden": false
        },
        "nteract": {
          "transient": {
            "deleting": false
          }
        },
        "gather": {
          "logged": 1698512932380
        }
      }
    },
    {
      "cell_type": "code",
      "source": [
        "best_run"
      ],
      "outputs": [
        {
          "output_type": "execute_result",
          "execution_count": 23,
          "data": {
            "text/plain": "<Run: data=<RunData: metrics={'AUC_macro': 0.7906512174377998,\n 'AUC_micro': 0.7908162421812797,\n 'AUC_weighted': 0.7906512174377998,\n 'accuracy': 0.7139560688976875,\n 'average_precision_score_macro': 0.7864441325664651,\n 'average_precision_score_micro': 0.7869097934850179,\n 'average_precision_score_weighted': 0.7864488153589011,\n 'balanced_accuracy': 0.7139630565438447,\n 'f1_score_macro': 0.7139373808007399,\n 'f1_score_micro': 0.7139560688976874,\n 'f1_score_weighted': 0.7139355149065049,\n 'log_loss': 0.5653932738160792,\n 'matthews_correlation': 0.42798762054147765,\n 'norm_macro_recall': 0.42792611308768946,\n 'precision_score_macro': 0.7140245684179836,\n 'precision_score_micro': 0.7139560688976875,\n 'precision_score_weighted': 0.7140278254531239,\n 'recall_score_macro': 0.7139630565438447,\n 'recall_score_micro': 0.7139560688976875,\n 'recall_score_weighted': 0.7139560688976875,\n 'weighted_accuracy': 0.7139490812606313}, params={}, tags={'mlflow.parentRunId': 'calm_turtle_jyc80gz19c',\n 'mlflow.rootRunId': 'calm_turtle_jyc80gz19c',\n 'mlflow.runName': 'yellow_reggae_tn74nmrj',\n 'mlflow.source.name': 'automl_driver.py',\n 'mlflow.source.type': 'JOB',\n 'mlflow.user': 'maribel atahuichi',\n 'model_explain_run_id': 'calm_turtle_jyc80gz19c_ModelExplain',\n 'model_explanation': 'True'}>, info=<RunInfo: artifact_uri='azureml://eastus.api.azureml.ms/mlflow/v2.0/subscriptions/fc14670d-c5e7-4c9f-aaa4-11ab881abb5f/resourceGroups/proyecto1-modulo4/providers/Microsoft.MachineLearningServices/workspaces/proyecto1/experiments/c0d6d7f7-e382-4016-804b-05bd508e02c8/runs/calm_turtle_jyc80gz19c_6/artifacts', end_time=1698512048398, experiment_id='c0d6d7f7-e382-4016-804b-05bd508e02c8', lifecycle_stage='active', run_id='calm_turtle_jyc80gz19c_6', run_name='yellow_reggae_tn74nmrj', run_uuid='calm_turtle_jyc80gz19c_6', start_time=1698512004826, status='FINISHED', user_id='eea4d92c-0eaa-46e9-b5e3-a700e03ceedc'>, inputs=<RunInputs: dataset_inputs=[]>>"
          },
          "metadata": {}
        }
      ],
      "execution_count": 23,
      "metadata": {
        "jupyter": {
          "source_hidden": false,
          "outputs_hidden": false
        },
        "nteract": {
          "transient": {
            "deleting": false
          }
        },
        "gather": {
          "logged": 1698512934531
        }
      }
    },
    {
      "cell_type": "markdown",
      "source": [
        "<mark>**SE PROCEDE A DESCARGAR LOS ARTEFACTOS**</mark>"
      ],
      "metadata": {
        "nteract": {
          "transient": {
            "deleting": false
          }
        }
      }
    },
    {
      "cell_type": "code",
      "source": [
        "import os\n",
        "\n",
        "# Create local folder\n",
        "local_dir = \"./artifact_downloads\"\n",
        "if not os.path.exists(local_dir):\n",
        "    os.mkdir(local_dir)\n",
        "# Download run's artifacts/outputs\n",
        "local_path = download_artifacts(\n",
        "    run_id=best_run.info.run_id, artifact_path=\"outputs\", dst_path=local_dir\n",
        ")"
      ],
      "outputs": [],
      "execution_count": 24,
      "metadata": {
        "jupyter": {
          "source_hidden": false,
          "outputs_hidden": false
        },
        "nteract": {
          "transient": {
            "deleting": false
          }
        },
        "gather": {
          "logged": 1698512940792
        }
      }
    },
    {
      "cell_type": "code",
      "source": [
        "# Show the contents of the MLFlow model folder\n",
        "os.listdir(\"./artifact_downloads/outputs/mlflow-model\")"
      ],
      "outputs": [
        {
          "output_type": "execute_result",
          "execution_count": 25,
          "data": {
            "text/plain": "['conda.yaml', 'MLmodel', 'model.pkl', 'python_env.yaml', 'requirements.txt']"
          },
          "metadata": {}
        }
      ],
      "execution_count": 25,
      "metadata": {
        "jupyter": {
          "source_hidden": false,
          "outputs_hidden": false
        },
        "nteract": {
          "transient": {
            "deleting": false
          }
        },
        "gather": {
          "logged": 1698512943528
        }
      }
    },
    {
      "cell_type": "markdown",
      "source": [
        "<mark>**SE PROCEDE A CREAR EL ENDPOINT PARA REALIZAR EL DEPLOY**</mark>"
      ],
      "metadata": {
        "nteract": {
          "transient": {
            "deleting": false
          }
        }
      }
    },
    {
      "cell_type": "code",
      "source": [
        "# import required libraries\n",
        "from azure.ai.ml.entities import (\n",
        "    ManagedOnlineEndpoint,\n",
        "    ManagedOnlineDeployment,\n",
        "    Model,\n",
        "    Environment,\n",
        "    CodeConfiguration,\n",
        "    ProbeSettings,\n",
        ")\n",
        "\n",
        "# Creating a unique endpoint name with current datetime to avoid conflicts\n",
        "import datetime\n",
        "\n",
        "online_endpoint_name = \"clasificacion\" + datetime.datetime.now().strftime(\"%m%d%H%M%f\")\n",
        "\n",
        "# create an online endpoint\n",
        "endpoint = ManagedOnlineEndpoint(\n",
        "    name=online_endpoint_name,\n",
        "    description=\"this is a sample online endpoint for deploying model\",\n",
        "    auth_mode=\"key\",\n",
        "    tags={\"foo\": \"bar\"},\n",
        ")\n",
        "print(online_endpoint_name)"
      ],
      "outputs": [
        {
          "output_type": "stream",
          "name": "stdout",
          "text": "clasificacion10222314412911\n"
        }
      ],
      "execution_count": 22,
      "metadata": {
        "jupyter": {
          "source_hidden": false,
          "outputs_hidden": false
        },
        "nteract": {
          "transient": {
            "deleting": false
          }
        },
        "gather": {
          "logged": 1698016478635
        }
      }
    },
    {
      "cell_type": "code",
      "source": [
        "ml_client.begin_create_or_update(endpoint).result()"
      ],
      "outputs": [
        {
          "output_type": "execute_result",
          "execution_count": 23,
          "data": {
            "text/plain": "ManagedOnlineEndpoint({'public_network_access': 'Enabled', 'provisioning_state': 'Succeeded', 'scoring_uri': 'https://clasificacion10222314412911.eastus.inference.ml.azure.com/score', 'openapi_uri': 'https://clasificacion10222314412911.eastus.inference.ml.azure.com/swagger.json', 'name': 'clasificacion10222314412911', 'description': 'this is a sample online endpoint for deploying model', 'tags': {'foo': 'bar'}, 'properties': {'azureml.onlineendpointid': '/subscriptions/ed3278d5-430f-46e8-8964-83e5db2c41c4/resourcegroups/proyecto-1-mod-1/providers/microsoft.machinelearningservices/workspaces/proyecto-1-now/onlineendpoints/clasificacion10222314412911', 'AzureAsyncOperationUri': 'https://management.azure.com/subscriptions/ed3278d5-430f-46e8-8964-83e5db2c41c4/providers/Microsoft.MachineLearningServices/locations/eastus/mfeOperationsStatus/oe:9ded5618-afa1-433d-88e3-a22704c1fc88:70baf5d1-9064-4a3c-b2d3-ce5332c72586?api-version=2022-02-01-preview'}, 'print_as_yaml': True, 'id': '/subscriptions/ed3278d5-430f-46e8-8964-83e5db2c41c4/resourceGroups/proyecto-1-mod-1/providers/Microsoft.MachineLearningServices/workspaces/proyecto-1-now/onlineEndpoints/clasificacion10222314412911', 'Resource__source_path': None, 'base_path': '/mnt/batch/tasks/shared/LS_root/mounts/clusters/eddyatahuichizabalaga1/code/Users/eddyatahuichizabalaga', 'creation_context': None, 'serialize': <msrest.serialization.Serializer object at 0x7f74301258d0>, 'auth_mode': 'key', 'location': 'eastus', 'identity': <azure.ai.ml.entities._credentials.IdentityConfiguration object at 0x7f7430124d90>, 'traffic': {}, 'mirror_traffic': {}, 'kind': 'Managed'})"
          },
          "metadata": {}
        }
      ],
      "execution_count": 23,
      "metadata": {
        "jupyter": {
          "source_hidden": false,
          "outputs_hidden": false
        },
        "nteract": {
          "transient": {
            "deleting": false
          }
        },
        "gather": {
          "logged": 1698016579771
        }
      }
    },
    {
      "cell_type": "code",
      "source": [
        "model_name = \"classification-model\"\n",
        "model = Model(\n",
        "    path=f\"azureml://jobs/{best_run.info.run_id}/outputs/artifacts/outputs/mlflow-model/\",\n",
        "    name=model_name,\n",
        "    description=\"my sample classification task\",\n",
        "    type=AssetTypes.MLFLOW_MODEL,\n",
        ")\n",
        "registered_model = ml_client.models.create_or_update(model)"
      ],
      "outputs": [],
      "execution_count": 24,
      "metadata": {
        "jupyter": {
          "source_hidden": false,
          "outputs_hidden": false
        },
        "nteract": {
          "transient": {
            "deleting": false
          }
        },
        "gather": {
          "logged": 1698016584177
        }
      }
    },
    {
      "cell_type": "code",
      "source": [
        "deployment = ManagedOnlineDeployment(\n",
        "    name=\"classification-deployed\",\n",
        "    endpoint_name=online_endpoint_name,\n",
        "    model=registered_model.id,\n",
        "    instance_type=\"Standard_E4s_v3\",\n",
        "    instance_count=1)\n",
        "\n",
        "ml_client.online_deployments.begin_create_or_update(deployment).result()"
      ],
      "outputs": [
        {
          "output_type": "stream",
          "name": "stderr",
          "text": "Check: endpoint clasificacion10222314412911 exists\n"
        },
        {
          "output_type": "stream",
          "name": "stdout",
          "text": ".............................................................................................."
        },
        {
          "output_type": "execute_result",
          "execution_count": 36,
          "data": {
            "text/plain": "ManagedOnlineDeployment({'private_network_connection': None, 'provisioning_state': 'Succeeded', 'endpoint_name': 'clasificacion10222314412911', 'type': 'Managed', 'name': 'classification-deployed', 'description': None, 'tags': {}, 'properties': {'AzureAsyncOperationUri': 'https://management.azure.com/subscriptions/ed3278d5-430f-46e8-8964-83e5db2c41c4/providers/Microsoft.MachineLearningServices/locations/eastus/mfeOperationsStatus/od:9ded5618-afa1-433d-88e3-a22704c1fc88:c9f2df7c-c135-4307-af06-6a0031437016?api-version=2023-04-01-preview'}, 'print_as_yaml': True, 'id': '/subscriptions/ed3278d5-430f-46e8-8964-83e5db2c41c4/resourceGroups/proyecto-1-mod-1/providers/Microsoft.MachineLearningServices/workspaces/proyecto-1-now/onlineEndpoints/clasificacion10222314412911/deployments/classification-deployed', 'Resource__source_path': None, 'base_path': '/mnt/batch/tasks/shared/LS_root/mounts/clusters/eddyatahuichizabalaga1/code/Users/eddyatahuichizabalaga', 'creation_context': None, 'serialize': <msrest.serialization.Serializer object at 0x7f7431ac01c0>, 'model': '/subscriptions/ed3278d5-430f-46e8-8964-83e5db2c41c4/resourceGroups/proyecto-1-mod-1/providers/Microsoft.MachineLearningServices/workspaces/proyecto-1-now/models/classification-model/versions/1', 'code_configuration': None, 'environment': None, 'environment_variables': {}, 'app_insights_enabled': False, 'scale_settings': <azure.ai.ml.entities._deployment.scale_settings.DefaultScaleSettings object at 0x7f7431ba8c40>, 'request_settings': <azure.ai.ml.entities._deployment.deployment_settings.OnlineRequestSettings object at 0x7f7431baaa70>, 'liveness_probe': <azure.ai.ml.entities._deployment.deployment_settings.ProbeSettings object at 0x7f7431baad40>, 'readiness_probe': <azure.ai.ml.entities._deployment.deployment_settings.ProbeSettings object at 0x7f7431ac0040>, 'instance_count': 1, 'arm_type': 'online_deployment', 'model_mount_path': None, 'instance_type': 'Standard_E4s_v3', 'data_collector': None, 'egress_public_network_access': 'Enabled'})"
          },
          "metadata": {}
        }
      ],
      "execution_count": 36,
      "metadata": {
        "jupyter": {
          "source_hidden": false,
          "outputs_hidden": false
        },
        "nteract": {
          "transient": {
            "deleting": false
          }
        },
        "gather": {
          "logged": 1698017673268
        }
      }
    },
    {
      "cell_type": "markdown",
      "source": [
        "SE UTILIZO UNA INSTANCIA STANDAD_E4S_V3 YA QUE ESTAS SI ESTAN HABILITADAS PARA REALIZAR ENDPOINT, TAMBIEN POR QUE ESTA OPTIMIZADO PARA USO DE MEMORIA."
      ],
      "metadata": {
        "nteract": {
          "transient": {
            "deleting": false
          }
        }
      }
    },
    {
      "cell_type": "markdown",
      "source": [
        "# <mark>**PREDICCION**</mark>"
      ],
      "metadata": {
        "nteract": {
          "transient": {
            "deleting": false
          }
        }
      }
    },
    {
      "cell_type": "code",
      "source": [
        "import json\n",
        "\n",
        "request_json = {\n",
        "    \"input_data\": {\n",
        "        \"columns\": ['sex', 'height', 'weight', 'waistline', 'DBP', 'triglyceride',\t'hemoglobin', 'serum_creatinine',\t'SGOT_ALT',\t'gamma_GTP',\t'SMK_stat_type_cd'],\n",
        "        \"data\": [{'sex':0, 'height':155, 'weight':70, 'waistline':780, 'DBP':820, 'triglyceride':210, 'hemoglobin':133, 'serum_creatinine':6, 'SGOT_ALT':60, 'gamma_GTP':120, 'SMK_stat_type_cd':1}],\n",
        "    }\n",
        "}\n",
        "request_file_name = \"sample_request_data.json\"\n",
        "with open(request_file_name, \"w\") as request_file:\n",
        "    json.dump(request_json, request_file)"
      ],
      "outputs": [],
      "execution_count": 1,
      "metadata": {
        "jupyter": {
          "source_hidden": false,
          "outputs_hidden": false
        },
        "nteract": {
          "transient": {
            "deleting": false
          }
        },
        "gather": {
          "logged": 1698600125276
        }
      }
    },
    {
      "cell_type": "code",
      "source": [
        "resp = ml_client.online_endpoints.invoke(\n",
        "    endpoint_name=online_endpoint_name,\n",
        "    deployment_name=deployment.name,\n",
        "    request_file=request_file_name,\n",
        ")"
      ],
      "outputs": [],
      "execution_count": 89,
      "metadata": {
        "jupyter": {
          "source_hidden": false,
          "outputs_hidden": false
        },
        "nteract": {
          "transient": {
            "deleting": false
          }
        },
        "gather": {
          "logged": 1697994876434
        }
      }
    },
    {
      "cell_type": "markdown",
      "source": [
        "VALORES DE 0 o 1 SI TOMO ALCOHOL."
      ],
      "metadata": {
        "nteract": {
          "transient": {
            "deleting": false
          }
        }
      }
    },
    {
      "cell_type": "code",
      "source": [
        "print(resp)"
      ],
      "outputs": [
        {
          "output_type": "stream",
          "name": "stdout",
          "text": "[0]\n"
        }
      ],
      "execution_count": 90,
      "metadata": {
        "jupyter": {
          "source_hidden": false,
          "outputs_hidden": false
        },
        "nteract": {
          "transient": {
            "deleting": false
          }
        },
        "gather": {
          "logged": 1697994877846
        }
      }
    }
  ],
  "metadata": {
    "kernelspec": {
      "name": "python310-sdkv2",
      "language": "python",
      "display_name": "Python 3.10 - SDK v2"
    },
    "language_info": {
      "name": "python",
      "version": "3.10.11",
      "mimetype": "text/x-python",
      "codemirror_mode": {
        "name": "ipython",
        "version": 3
      },
      "pygments_lexer": "ipython3",
      "nbconvert_exporter": "python",
      "file_extension": ".py"
    },
    "microsoft": {
      "ms_spell_check": {
        "ms_spell_check_language": "es"
      },
      "host": {
        "AzureML": {
          "notebookHasBeenCompleted": true
        }
      }
    },
    "kernel_info": {
      "name": "python310-sdkv2"
    },
    "nteract": {
      "version": "nteract-front-end@1.0.0"
    }
  },
  "nbformat": 4,
  "nbformat_minor": 2
}